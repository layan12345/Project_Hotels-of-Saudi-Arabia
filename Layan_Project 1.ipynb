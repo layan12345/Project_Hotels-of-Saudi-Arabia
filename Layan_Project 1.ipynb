{
 "cells": [
  {
   "cell_type": "markdown",
   "metadata": {},
   "source": [
    "# Assignment 4\n",
    "\n",
    "Before working on this assignment please read these instructions fully. In the submission area, you will notice that you can click the link to **Preview the Grading** for each step of the assignment. This is the criteria that will be used for peer grading. Please familiarize yourself with the criteria before beginning the assignment.\n",
    "\n",
    "This assignment requires that you to find **at least** two datasets on the web which are related, and that you visualize these datasets to answer a question with the broad topic of **economic activity or measures** (see below) for the region of **Jeddah, Mecca Region, Saudi Arabia**, or **Saudi Arabia** more broadly.\n",
    "\n",
    "You can merge these datasets with data from different regions if you like! For instance, you might want to compare **Jeddah, Mecca Region, Saudi Arabia** to Ann Arbor, USA. In that case at least one source file must be about **Jeddah, Mecca Region, Saudi Arabia**.\n",
    "\n",
    "You are welcome to choose datasets at your discretion, but keep in mind **they will be shared with your peers**, so choose appropriate datasets. Sensitive, confidential, illicit, and proprietary materials are not good choices for datasets for this assignment. You are welcome to upload datasets of your own as well, and link to them using a third party repository such as github, bitbucket, pastebin, etc. Please be aware of the Coursera terms of service with respect to intellectual property.\n",
    "\n",
    "Also, you are welcome to preserve data in its original language, but for the purposes of grading you should provide english translations. You are welcome to provide multiple visuals in different languages if you would like!\n",
    "\n",
    "As this assignment is for the whole course, you must incorporate principles discussed in the first week, such as having as high data-ink ratio (Tufte) and aligning with Cairo’s principles of truth, beauty, function, and insight.\n",
    "\n",
    "Here are the assignment instructions:\n",
    "\n",
    " * State the region and the domain category that your data sets are about (e.g., **Jeddah, Mecca Region, Saudi Arabia** and **economic activity or measures**).\n",
    " * You must state a question about the domain category and region that you identified as being interesting.\n",
    " * You must provide at least two links to available datasets. These could be links to files such as CSV or Excel files, or links to websites which might have data in tabular form, such as Wikipedia pages.\n",
    " * You must upload an image which addresses the research question you stated. In addition to addressing the question, this visual should follow Cairo's principles of truthfulness, functionality, beauty, and insightfulness.\n",
    " * You must contribute a short (1-2 paragraph) written justification of how your visualization addresses your stated research question.\n",
    "\n",
    "What do we mean by **economic activity or measures**?  For this category you might look at the inputs or outputs to the given economy, or major changes in the economy compared to other regions.\n",
    "\n",
    "## Tips\n",
    "* Wikipedia is an excellent source of data, and I strongly encourage you to explore it for new data sources.\n",
    "* Many governments run open data initiatives at the city, region, and country levels, and these are wonderful resources for localized data sources.\n",
    "* Several international agencies, such as the [United Nations](http://data.un.org/), the [World Bank](http://data.worldbank.org/), the [Global Open Data Index](http://index.okfn.org/place/) are other great places to look for data.\n",
    "* This assignment requires you to convert and clean datafiles. Check out the discussion forums for tips on how to do this from various sources, and share your successes with your fellow students!\n",
    "\n",
    "## Example\n",
    "Looking for an example? Here's what our course assistant put together for the **Ann Arbor, MI, USA** area using **sports and athletics** as the topic. [Example Solution File](./readonly/Assignment4_example.pdf)"
   ]
  },
  {
   "cell_type": "markdown",
   "metadata": {},
   "source": [
    "# Region and Domain\n",
    "- cities in saudi arabia"
   ]
  },
  {
   "cell_type": "markdown",
   "metadata": {},
   "source": [
    "# Research Question\n",
    "- Determine the most significant featuers that affect the hotel price in saudi arabia "
   ]
  },
  {
   "cell_type": "markdown",
   "metadata": {},
   "source": [
    "# Links\n",
    "- https://www.kaggle.com/datasets/moayadmagadmi/saudi-arabia-bookingcom\n",
    "- https://en.wikipedia.org/wiki/Category:Hotels_in_Saudi_Arabia"
   ]
  },
  {
   "cell_type": "code",
   "execution_count": 1,
   "metadata": {},
   "outputs": [],
   "source": [
    "#for data processing\n",
    "import numpy as np\n",
    "import pandas as pd\n",
    "\n",
    "#for data visulization\n",
    "import matplotlib.pyplot as plt\n",
    "import seaborn as sns\n"
   ]
  },
  {
   "cell_type": "markdown",
   "metadata": {},
   "source": [
    "# Datasets\n",
    "\n"
   ]
  },
  {
   "cell_type": "code",
   "execution_count": 2,
   "metadata": {},
   "outputs": [],
   "source": [
    "df_saudi_hotels = pd.read_csv(\"Saudi Arabia hotels.csv\")"
   ]
  },
  {
   "cell_type": "code",
   "execution_count": 3,
   "metadata": {},
   "outputs": [
    {
     "data": {
      "text/html": [
       "<div>\n",
       "<style scoped>\n",
       "    .dataframe tbody tr th:only-of-type {\n",
       "        vertical-align: middle;\n",
       "    }\n",
       "\n",
       "    .dataframe tbody tr th {\n",
       "        vertical-align: top;\n",
       "    }\n",
       "\n",
       "    .dataframe thead th {\n",
       "        text-align: right;\n",
       "    }\n",
       "</style>\n",
       "<table border=\"1\" class=\"dataframe\">\n",
       "  <thead>\n",
       "    <tr style=\"text-align: right;\">\n",
       "      <th></th>\n",
       "      <th>Unnamed: 0</th>\n",
       "      <th>Name</th>\n",
       "      <th>City</th>\n",
       "      <th>Price</th>\n",
       "      <th>Star_Rating</th>\n",
       "      <th>Property_Demand</th>\n",
       "      <th>Property_id</th>\n",
       "      <th>Customers_Rating</th>\n",
       "      <th>Customers_Review</th>\n",
       "      <th>Type_of_room</th>\n",
       "      <th>...</th>\n",
       "      <th>Cancelation</th>\n",
       "      <th>Max_persons</th>\n",
       "      <th>Bed_type</th>\n",
       "      <th>Tax</th>\n",
       "      <th>Review_title</th>\n",
       "      <th>Credit_card</th>\n",
       "      <th>Breakfst_included</th>\n",
       "      <th>Longitude_x</th>\n",
       "      <th>Latitude_y</th>\n",
       "      <th>Link</th>\n",
       "    </tr>\n",
       "  </thead>\n",
       "  <tbody>\n",
       "    <tr>\n",
       "      <th>0</th>\n",
       "      <td>0</td>\n",
       "      <td>الريـم</td>\n",
       "      <td>Al Ula</td>\n",
       "      <td>SAR179</td>\n",
       "      <td>5</td>\n",
       "      <td>Only 1 room left like this on our site</td>\n",
       "      <td>6330099</td>\n",
       "      <td>NaN</td>\n",
       "      <td>NaN</td>\n",
       "      <td>Economy Double Room</td>\n",
       "      <td>...</td>\n",
       "      <td>FREE cancellation</td>\n",
       "      <td>Max persons: 2</td>\n",
       "      <td>3 beds\\n(3 large doubles)</td>\n",
       "      <td>+SAR 0 taxes and charges</td>\n",
       "      <td>NaN</td>\n",
       "      <td>Reservation possible without a credit card</td>\n",
       "      <td>NaN</td>\n",
       "      <td>37.917525</td>\n",
       "      <td>26.648656</td>\n",
       "      <td>https://www.booking.com/hotel/sa/lrym.en-gb.ht...</td>\n",
       "    </tr>\n",
       "    <tr>\n",
       "      <th>1</th>\n",
       "      <td>1</td>\n",
       "      <td>Copper Crown Furnished Apartments</td>\n",
       "      <td>Khamis Mushayt</td>\n",
       "      <td>SAR195</td>\n",
       "      <td>5</td>\n",
       "      <td>Only 2 rooms like this left on our site</td>\n",
       "      <td>5326174</td>\n",
       "      <td>9.0</td>\n",
       "      <td>169 reviews</td>\n",
       "      <td>Deluxe Room (2 Adults + 1 Child)</td>\n",
       "      <td>...</td>\n",
       "      <td>FREE cancellation</td>\n",
       "      <td>Max persons: 2</td>\n",
       "      <td>1 bed\\n(1 extra-large double)</td>\n",
       "      <td>includes taxes and charges</td>\n",
       "      <td>Superb</td>\n",
       "      <td>Reservation possible without a credit card</td>\n",
       "      <td>NaN</td>\n",
       "      <td>42.801402</td>\n",
       "      <td>18.242741</td>\n",
       "      <td>https://www.booking.com/hotel/sa/kwbr-krwn-lls...</td>\n",
       "    </tr>\n",
       "    <tr>\n",
       "      <th>2</th>\n",
       "      <td>2</td>\n",
       "      <td>فندق راية الشلال 2</td>\n",
       "      <td>Abū Qa‘ar</td>\n",
       "      <td>SAR200</td>\n",
       "      <td>5</td>\n",
       "      <td>Only 3 rooms like this left on our site</td>\n",
       "      <td>5987844</td>\n",
       "      <td>8.7</td>\n",
       "      <td>17 reviews</td>\n",
       "      <td>Deluxe Double or Twin Room</td>\n",
       "      <td>...</td>\n",
       "      <td>FREE cancellation</td>\n",
       "      <td>Max persons: 2</td>\n",
       "      <td>1 bed\\n(1 double)</td>\n",
       "      <td>+SAR 0 taxes and charges</td>\n",
       "      <td>Fabulous</td>\n",
       "      <td>Reservation possible without a credit card</td>\n",
       "      <td>NaN</td>\n",
       "      <td>45.990981</td>\n",
       "      <td>28.370666</td>\n",
       "      <td>https://www.booking.com/hotel/sa/fndq-ry-lshll...</td>\n",
       "    </tr>\n",
       "    <tr>\n",
       "      <th>3</th>\n",
       "      <td>3</td>\n",
       "      <td>Four Points by Sheraton Makkah Al Naseem</td>\n",
       "      <td>Makkah</td>\n",
       "      <td>SAR225</td>\n",
       "      <td>5</td>\n",
       "      <td>Only 5 rooms like this left on our site</td>\n",
       "      <td>3889445</td>\n",
       "      <td>8.7</td>\n",
       "      <td>9,418 reviews</td>\n",
       "      <td>Superior Twin Room</td>\n",
       "      <td>...</td>\n",
       "      <td>FREE cancellation</td>\n",
       "      <td>Max persons: 2</td>\n",
       "      <td>2 beds\\n(2 singles)</td>\n",
       "      <td>+SAR 23 taxes and charges</td>\n",
       "      <td>Fabulous</td>\n",
       "      <td>NaN</td>\n",
       "      <td>NaN</td>\n",
       "      <td>39.874312</td>\n",
       "      <td>21.380810</td>\n",
       "      <td>https://www.booking.com/hotel/sa/four-points-b...</td>\n",
       "    </tr>\n",
       "    <tr>\n",
       "      <th>4</th>\n",
       "      <td>4</td>\n",
       "      <td>نزل الثريا للوحدات السكنية</td>\n",
       "      <td>Taif</td>\n",
       "      <td>SAR250</td>\n",
       "      <td>5</td>\n",
       "      <td>NaN</td>\n",
       "      <td>6284346</td>\n",
       "      <td>NaN</td>\n",
       "      <td>NaN</td>\n",
       "      <td>Budget Double Room</td>\n",
       "      <td>...</td>\n",
       "      <td>FREE cancellation</td>\n",
       "      <td>Max persons: 2</td>\n",
       "      <td>1 bed\\n(1 double)</td>\n",
       "      <td>includes taxes and charges</td>\n",
       "      <td>NaN</td>\n",
       "      <td>Reservation possible without a credit card</td>\n",
       "      <td>NaN</td>\n",
       "      <td>40.487383</td>\n",
       "      <td>21.494524</td>\n",
       "      <td>https://www.booking.com/hotel/sa/nzl-lthry-llw...</td>\n",
       "    </tr>\n",
       "  </tbody>\n",
       "</table>\n",
       "<p>5 rows × 21 columns</p>\n",
       "</div>"
      ],
      "text/plain": [
       "   Unnamed: 0                                      Name             City  \\\n",
       "0           0                                    الريـم           Al Ula   \n",
       "1           1         Copper Crown Furnished Apartments   Khamis Mushayt   \n",
       "2           2                        فندق راية الشلال 2        Abū Qa‘ar   \n",
       "3           3  Four Points by Sheraton Makkah Al Naseem           Makkah   \n",
       "4           4                نزل الثريا للوحدات السكنية             Taif   \n",
       "\n",
       "     Price  Star_Rating                          Property_Demand  Property_id  \\\n",
       "0  SAR179             5   Only 1 room left like this on our site      6330099   \n",
       "1  SAR195             5  Only 2 rooms like this left on our site      5326174   \n",
       "2  SAR200             5  Only 3 rooms like this left on our site      5987844   \n",
       "3  SAR225             5  Only 5 rooms like this left on our site      3889445   \n",
       "4  SAR250             5                                      NaN      6284346   \n",
       "\n",
       "   Customers_Rating Customers_Review                      Type_of_room  ...  \\\n",
       "0               NaN              NaN               Economy Double Room  ...   \n",
       "1               9.0     169 reviews   Deluxe Room (2 Adults + 1 Child)  ...   \n",
       "2               8.7      17 reviews         Deluxe Double or Twin Room  ...   \n",
       "3               8.7   9,418 reviews                 Superior Twin Room  ...   \n",
       "4               NaN              NaN                Budget Double Room  ...   \n",
       "\n",
       "         Cancelation     Max_persons                       Bed_type  \\\n",
       "0  FREE cancellation  Max persons: 2      3 beds\\n(3 large doubles)   \n",
       "1  FREE cancellation  Max persons: 2  1 bed\\n(1 extra-large double)   \n",
       "2  FREE cancellation  Max persons: 2              1 bed\\n(1 double)   \n",
       "3  FREE cancellation  Max persons: 2            2 beds\\n(2 singles)   \n",
       "4  FREE cancellation  Max persons: 2              1 bed\\n(1 double)   \n",
       "\n",
       "                            Tax Review_title  \\\n",
       "0    +SAR 0 taxes and charges            NaN   \n",
       "1   includes taxes and charges       Superb    \n",
       "2    +SAR 0 taxes and charges      Fabulous    \n",
       "3   +SAR 23 taxes and charges      Fabulous    \n",
       "4   includes taxes and charges           NaN   \n",
       "\n",
       "                                  Credit_card Breakfst_included Longitude_x  \\\n",
       "0  Reservation possible without a credit card               NaN   37.917525   \n",
       "1  Reservation possible without a credit card               NaN   42.801402   \n",
       "2  Reservation possible without a credit card               NaN   45.990981   \n",
       "3                                         NaN               NaN   39.874312   \n",
       "4  Reservation possible without a credit card               NaN   40.487383   \n",
       "\n",
       "   Latitude_y                                               Link  \n",
       "0   26.648656  https://www.booking.com/hotel/sa/lrym.en-gb.ht...  \n",
       "1   18.242741  https://www.booking.com/hotel/sa/kwbr-krwn-lls...  \n",
       "2   28.370666  https://www.booking.com/hotel/sa/fndq-ry-lshll...  \n",
       "3   21.380810  https://www.booking.com/hotel/sa/four-points-b...  \n",
       "4   21.494524  https://www.booking.com/hotel/sa/nzl-lthry-llw...  \n",
       "\n",
       "[5 rows x 21 columns]"
      ]
     },
     "execution_count": 3,
     "metadata": {},
     "output_type": "execute_result"
    }
   ],
   "source": [
    "df_saudi_hotels.head()"
   ]
  },
  {
   "cell_type": "code",
   "execution_count": 4,
   "metadata": {},
   "outputs": [
    {
     "data": {
      "text/plain": [
       "(1025, 21)"
      ]
     },
     "execution_count": 4,
     "metadata": {},
     "output_type": "execute_result"
    }
   ],
   "source": [
    "df_saudi_hotels.shape"
   ]
  },
  {
   "cell_type": "code",
   "execution_count": 5,
   "metadata": {},
   "outputs": [
    {
     "data": {
      "text/html": [
       "<div>\n",
       "<style scoped>\n",
       "    .dataframe tbody tr th:only-of-type {\n",
       "        vertical-align: middle;\n",
       "    }\n",
       "\n",
       "    .dataframe tbody tr th {\n",
       "        vertical-align: top;\n",
       "    }\n",
       "\n",
       "    .dataframe thead th {\n",
       "        text-align: right;\n",
       "    }\n",
       "</style>\n",
       "<table border=\"1\" class=\"dataframe\">\n",
       "  <thead>\n",
       "    <tr style=\"text-align: right;\">\n",
       "      <th></th>\n",
       "      <th>Unnamed: 0</th>\n",
       "      <th>Star_Rating</th>\n",
       "      <th>Property_id</th>\n",
       "      <th>Customers_Rating</th>\n",
       "      <th>Longitude_x</th>\n",
       "      <th>Latitude_y</th>\n",
       "    </tr>\n",
       "  </thead>\n",
       "  <tbody>\n",
       "    <tr>\n",
       "      <th>Unnamed: 0</th>\n",
       "      <td>1.000000</td>\n",
       "      <td>-0.874732</td>\n",
       "      <td>-0.005371</td>\n",
       "      <td>-0.366974</td>\n",
       "      <td>-0.004422</td>\n",
       "      <td>0.018409</td>\n",
       "    </tr>\n",
       "    <tr>\n",
       "      <th>Star_Rating</th>\n",
       "      <td>-0.874732</td>\n",
       "      <td>1.000000</td>\n",
       "      <td>-0.059043</td>\n",
       "      <td>0.438895</td>\n",
       "      <td>0.015602</td>\n",
       "      <td>-0.026927</td>\n",
       "    </tr>\n",
       "    <tr>\n",
       "      <th>Property_id</th>\n",
       "      <td>-0.005371</td>\n",
       "      <td>-0.059043</td>\n",
       "      <td>1.000000</td>\n",
       "      <td>0.104072</td>\n",
       "      <td>-0.051951</td>\n",
       "      <td>-0.087186</td>\n",
       "    </tr>\n",
       "    <tr>\n",
       "      <th>Customers_Rating</th>\n",
       "      <td>-0.366974</td>\n",
       "      <td>0.438895</td>\n",
       "      <td>0.104072</td>\n",
       "      <td>1.000000</td>\n",
       "      <td>-0.089430</td>\n",
       "      <td>-0.091945</td>\n",
       "    </tr>\n",
       "    <tr>\n",
       "      <th>Longitude_x</th>\n",
       "      <td>-0.004422</td>\n",
       "      <td>0.015602</td>\n",
       "      <td>-0.051951</td>\n",
       "      <td>-0.089430</td>\n",
       "      <td>1.000000</td>\n",
       "      <td>0.465511</td>\n",
       "    </tr>\n",
       "    <tr>\n",
       "      <th>Latitude_y</th>\n",
       "      <td>0.018409</td>\n",
       "      <td>-0.026927</td>\n",
       "      <td>-0.087186</td>\n",
       "      <td>-0.091945</td>\n",
       "      <td>0.465511</td>\n",
       "      <td>1.000000</td>\n",
       "    </tr>\n",
       "  </tbody>\n",
       "</table>\n",
       "</div>"
      ],
      "text/plain": [
       "                  Unnamed: 0  Star_Rating  Property_id  Customers_Rating  \\\n",
       "Unnamed: 0          1.000000    -0.874732    -0.005371         -0.366974   \n",
       "Star_Rating        -0.874732     1.000000    -0.059043          0.438895   \n",
       "Property_id        -0.005371    -0.059043     1.000000          0.104072   \n",
       "Customers_Rating   -0.366974     0.438895     0.104072          1.000000   \n",
       "Longitude_x        -0.004422     0.015602    -0.051951         -0.089430   \n",
       "Latitude_y          0.018409    -0.026927    -0.087186         -0.091945   \n",
       "\n",
       "                  Longitude_x  Latitude_y  \n",
       "Unnamed: 0          -0.004422    0.018409  \n",
       "Star_Rating          0.015602   -0.026927  \n",
       "Property_id         -0.051951   -0.087186  \n",
       "Customers_Rating    -0.089430   -0.091945  \n",
       "Longitude_x          1.000000    0.465511  \n",
       "Latitude_y           0.465511    1.000000  "
      ]
     },
     "execution_count": 5,
     "metadata": {},
     "output_type": "execute_result"
    }
   ],
   "source": [
    "df_saudi_hotels.corr()"
   ]
  },
  {
   "cell_type": "markdown",
   "metadata": {},
   "source": [
    "## - Data Cleaning "
   ]
  },
  {
   "cell_type": "code",
   "execution_count": 6,
   "metadata": {},
   "outputs": [
    {
     "name": "stdout",
     "output_type": "stream",
     "text": [
      "<class 'pandas.core.frame.DataFrame'>\n",
      "RangeIndex: 1025 entries, 0 to 1024\n",
      "Data columns (total 21 columns):\n",
      "Unnamed: 0              1025 non-null int64\n",
      "Name                    1025 non-null object\n",
      "City                    1025 non-null object\n",
      "Price                   1025 non-null object\n",
      "Star_Rating             1025 non-null int64\n",
      "Property_Demand         750 non-null object\n",
      "Property_id             1025 non-null int64\n",
      "Customers_Rating        956 non-null float64\n",
      "Customers_Review        956 non-null object\n",
      "Type_of_room            1024 non-null object\n",
      "reservations_Payment    735 non-null object\n",
      "Cancelation             846 non-null object\n",
      "Max_persons             1025 non-null object\n",
      "Bed_type                1006 non-null object\n",
      "Tax                     1025 non-null object\n",
      "Review_title            956 non-null object\n",
      "Credit_card             704 non-null object\n",
      "Breakfst_included       84 non-null object\n",
      "Longitude_x             1025 non-null float64\n",
      "Latitude_y              1025 non-null float64\n",
      "Link                    1025 non-null object\n",
      "dtypes: float64(3), int64(3), object(15)\n",
      "memory usage: 168.3+ KB\n"
     ]
    }
   ],
   "source": [
    "df_saudi_hotels.info()"
   ]
  },
  {
   "cell_type": "code",
   "execution_count": 7,
   "metadata": {},
   "outputs": [
    {
     "data": {
      "text/html": [
       "<div>\n",
       "<style scoped>\n",
       "    .dataframe tbody tr th:only-of-type {\n",
       "        vertical-align: middle;\n",
       "    }\n",
       "\n",
       "    .dataframe tbody tr th {\n",
       "        vertical-align: top;\n",
       "    }\n",
       "\n",
       "    .dataframe thead th {\n",
       "        text-align: right;\n",
       "    }\n",
       "</style>\n",
       "<table border=\"1\" class=\"dataframe\">\n",
       "  <thead>\n",
       "    <tr style=\"text-align: right;\">\n",
       "      <th></th>\n",
       "      <th>Unnamed: 0</th>\n",
       "      <th>Star_Rating</th>\n",
       "      <th>Property_id</th>\n",
       "      <th>Customers_Rating</th>\n",
       "      <th>Longitude_x</th>\n",
       "      <th>Latitude_y</th>\n",
       "    </tr>\n",
       "  </thead>\n",
       "  <tbody>\n",
       "    <tr>\n",
       "      <th>count</th>\n",
       "      <td>1025.000000</td>\n",
       "      <td>1025.000000</td>\n",
       "      <td>1.025000e+03</td>\n",
       "      <td>956.000000</td>\n",
       "      <td>1025.000000</td>\n",
       "      <td>1025.000000</td>\n",
       "    </tr>\n",
       "    <tr>\n",
       "      <th>mean</th>\n",
       "      <td>512.000000</td>\n",
       "      <td>1.707317</td>\n",
       "      <td>2.932536e+06</td>\n",
       "      <td>7.394979</td>\n",
       "      <td>43.330090</td>\n",
       "      <td>23.403023</td>\n",
       "    </tr>\n",
       "    <tr>\n",
       "      <th>std</th>\n",
       "      <td>296.036315</td>\n",
       "      <td>1.884920</td>\n",
       "      <td>1.974138e+06</td>\n",
       "      <td>1.065163</td>\n",
       "      <td>4.310628</td>\n",
       "      <td>2.941714</td>\n",
       "    </tr>\n",
       "    <tr>\n",
       "      <th>min</th>\n",
       "      <td>0.000000</td>\n",
       "      <td>0.000000</td>\n",
       "      <td>2.530900e+04</td>\n",
       "      <td>3.400000</td>\n",
       "      <td>35.005600</td>\n",
       "      <td>16.848112</td>\n",
       "    </tr>\n",
       "    <tr>\n",
       "      <th>25%</th>\n",
       "      <td>256.000000</td>\n",
       "      <td>0.000000</td>\n",
       "      <td>1.370200e+06</td>\n",
       "      <td>6.700000</td>\n",
       "      <td>39.214104</td>\n",
       "      <td>21.464557</td>\n",
       "    </tr>\n",
       "    <tr>\n",
       "      <th>50%</th>\n",
       "      <td>512.000000</td>\n",
       "      <td>0.000000</td>\n",
       "      <td>2.320250e+06</td>\n",
       "      <td>7.500000</td>\n",
       "      <td>42.541455</td>\n",
       "      <td>24.159421</td>\n",
       "    </tr>\n",
       "    <tr>\n",
       "      <th>75%</th>\n",
       "      <td>768.000000</td>\n",
       "      <td>3.000000</td>\n",
       "      <td>4.766370e+06</td>\n",
       "      <td>8.200000</td>\n",
       "      <td>46.757680</td>\n",
       "      <td>26.269904</td>\n",
       "    </tr>\n",
       "    <tr>\n",
       "      <th>max</th>\n",
       "      <td>1024.000000</td>\n",
       "      <td>5.000000</td>\n",
       "      <td>6.402009e+06</td>\n",
       "      <td>9.600000</td>\n",
       "      <td>50.223634</td>\n",
       "      <td>31.676857</td>\n",
       "    </tr>\n",
       "  </tbody>\n",
       "</table>\n",
       "</div>"
      ],
      "text/plain": [
       "        Unnamed: 0  Star_Rating   Property_id  Customers_Rating  Longitude_x  \\\n",
       "count  1025.000000  1025.000000  1.025000e+03        956.000000  1025.000000   \n",
       "mean    512.000000     1.707317  2.932536e+06          7.394979    43.330090   \n",
       "std     296.036315     1.884920  1.974138e+06          1.065163     4.310628   \n",
       "min       0.000000     0.000000  2.530900e+04          3.400000    35.005600   \n",
       "25%     256.000000     0.000000  1.370200e+06          6.700000    39.214104   \n",
       "50%     512.000000     0.000000  2.320250e+06          7.500000    42.541455   \n",
       "75%     768.000000     3.000000  4.766370e+06          8.200000    46.757680   \n",
       "max    1024.000000     5.000000  6.402009e+06          9.600000    50.223634   \n",
       "\n",
       "        Latitude_y  \n",
       "count  1025.000000  \n",
       "mean     23.403023  \n",
       "std       2.941714  \n",
       "min      16.848112  \n",
       "25%      21.464557  \n",
       "50%      24.159421  \n",
       "75%      26.269904  \n",
       "max      31.676857  "
      ]
     },
     "execution_count": 7,
     "metadata": {},
     "output_type": "execute_result"
    }
   ],
   "source": [
    "df_saudi_hotels.describe()"
   ]
  },
  {
   "cell_type": "code",
   "execution_count": 8,
   "metadata": {},
   "outputs": [
    {
     "data": {
      "text/plain": [
       "False"
      ]
     },
     "execution_count": 8,
     "metadata": {},
     "output_type": "execute_result"
    }
   ],
   "source": [
    "df_saudi_hotels.duplicated().any()"
   ]
  },
  {
   "cell_type": "code",
   "execution_count": 9,
   "metadata": {},
   "outputs": [
    {
     "data": {
      "text/plain": [
       "Index(['Unnamed: 0', 'Name', 'City', 'Price', 'Star_Rating', 'Property_Demand',\n",
       "       'Property_id', 'Customers_Rating', 'Customers_Review', 'Type_of_room',\n",
       "       'reservations_Payment', 'Cancelation', 'Max_persons', 'Bed_type', 'Tax',\n",
       "       'Review_title', 'Credit_card', 'Breakfst_included', 'Longitude_x',\n",
       "       'Latitude_y', 'Link'],\n",
       "      dtype='object')"
      ]
     },
     "execution_count": 9,
     "metadata": {},
     "output_type": "execute_result"
    }
   ],
   "source": [
    "df_saudi_hotels.columns"
   ]
  },
  {
   "cell_type": "code",
   "execution_count": 10,
   "metadata": {},
   "outputs": [],
   "source": [
    "# dropping unnecessary featuers\n",
    "df_saudi_hotels.drop('Unnamed: 0', axis = 1, inplace= True)\n",
    "df_saudi_hotels.drop('Customers_Review', axis = 1, inplace= True)\n",
    "df_saudi_hotels.drop('Review_title', axis = 1, inplace= True)\n",
    "df_saudi_hotels.drop('Breakfst_included', axis = 1, inplace= True)\n",
    "df_saudi_hotels.drop('Link', axis = 1, inplace= True)"
   ]
  },
  {
   "cell_type": "markdown",
   "metadata": {},
   "source": [
    "## - Exploratory Data Analysis (EDA)"
   ]
  },
  {
   "cell_type": "code",
   "execution_count": 11,
   "metadata": {},
   "outputs": [
    {
     "data": {
      "text/plain": [
       "<seaborn.axisgrid.PairGrid at 0x7f5319155978>"
      ]
     },
     "execution_count": 11,
     "metadata": {},
     "output_type": "execute_result"
    },
    {
     "data": {
      "image/png": "[encoded data removed]",
      "text/plain": [
       "<Figure size 900x900 with 30 Axes>"
      ]
     },
     "metadata": {
      "needs_background": "light"
     },
     "output_type": "display_data"
    }
   ],
   "source": [
    "sns.pairplot(df_saudi_hotels)"
   ]
  },
  {
   "cell_type": "code",
   "execution_count": 34,
   "metadata": {},
   "outputs": [
    {
     "data": {
      "text/plain": [
       "<matplotlib.axes._subplots.AxesSubplot at 0x7f52b41de240>"
      ]
     },
     "execution_count": 34,
     "metadata": {},
     "output_type": "execute_result"
    },
    {
     "data": {
      "image/png": "[encoded data removed]",
      "text/plain": [
       "<Figure size 432x288 with 2 Axes>"
      ]
     },
     "metadata": {
      "needs_background": "light"
     },
     "output_type": "display_data"
    }
   ],
   "source": [
    "# Discover correlation coefficient\n",
    "sns.heatmap(df_saudi_hotels.corr(),annot=True, cmap=\"PuBuGn\") #draw the heatmap\n"
   ]
  },
  {
   "cell_type": "code",
   "execution_count": 38,
   "metadata": {},
   "outputs": [
    {
     "data": {
      "image/png": "[encoded data removed]",
      "text/plain": [
       "<Figure size 432x288 with 1 Axes>"
      ]
     },
     "metadata": {
      "needs_background": "light"
     },
     "output_type": "display_data"
    }
   ],
   "source": [
    "x = df_saudi_hotels[\"Customers_Rating\"].values\n",
    "plt.hist(x, bins = 10, color = 'blue')\n",
    "plt.title = (\" Histogram of Hotel Customers Rating \")\n",
    "plt.ylabel(\"Frequency\")\n",
    "plt.xlabel(\"Customers Rating\")\n",
    "figsize = (10,10)\n"
   ]
  },
  {
   "cell_type": "code",
   "execution_count": 42,
   "metadata": {},
   "outputs": [],
   "source": [
    "from plotly.subplots import make_subplots #Importing Plotly scientific graphing library for making subplots\n",
    "import plotly.graph_objects as go"
   ]
  },
  {
   "cell_type": "code",
   "execution_count": 43,
   "metadata": {},
   "outputs": [
    {
     "data": {
      "text/plain": [
       "Index(['Name', 'City', 'Price', 'Star_Rating', 'Property_Demand',\n",
       "       'Property_id', 'Customers_Rating', 'Type_of_room',\n",
       "       'reservations_Payment', 'Cancelation', 'Max_persons', 'Bed_type', 'Tax',\n",
       "       'Credit_card', 'Longitude_x', 'Latitude_y'],\n",
       "      dtype='object')"
      ]
     },
     "execution_count": 43,
     "metadata": {},
     "output_type": "execute_result"
    }
   ],
   "source": [
    "df_saudi_hotels.columns"
   ]
  },
  {
   "cell_type": "code",
   "execution_count": 44,
   "metadata": {},
   "outputs": [],
   "source": [
    "#Frist, get count of cars for unique values of each featurs\n",
    "Count_City = df_saudi_hotels['City'].value_counts().reset_index()\n",
    "Count_City = Count_City.rename(columns = {'index':'City','City':'Count'})\n",
    "\n",
    "Count_Type_of_room = df_saudi_hotels['Type_of_room'].value_counts().reset_index()\n",
    "Count_Type_of_room = Count_Type_of_room.rename(columns = {'index':'Type_of_room','Type_of_room':'Count'})\n",
    "\n",
    "Count_Max_persons = df_saudi_hotels['Max_persons'].value_counts().reset_index()\n",
    "Count_Max_persons = Count_Max_persons.rename(columns = {'index':'Max_persons','Max_persons':'Count'})\n",
    "\n",
    "Count_Bed_type = df_saudi_hotels['Bed_type'].value_counts().reset_index()\n",
    "Count_Bed_type = Count_Bed_type.rename(columns = {'index':'Bed_type','Bed_type':'Count'})"
   ]
  },
  {
   "cell_type": "code",
   "execution_count": 59,
   "metadata": {},
   "outputs": [
    {
     "data": {
      "application/vnd.plotly.v1+json": {
       "config": {
        "plotlyServerURL": "https://plot.ly"
       },
       "data": [
        {
         "name": "City",
         "type": "bar",
         "x": [
          " Riyadh",
          " Jeddah",
          " Dammam",
          " Makkah",
          " Al Olayya, Al Khobar",
          " Abha",
          " Al Khobar",
          " Yanbu",
          " Taif",
          " Buraydah",
          " Al Madinah",
          " Jazan",
          " Ajyad, Makkah",
          " Tabuk",
          " Hera Street, Jeddah",
          " Al Hamra, Jeddah",
          " Khamis Mushayt",
          " Al Salamah, Jeddah",
          " Hail",
          " Al Jubail",
          " Al Olaya, Riyadh",
          " Central Madinah, Al Madinah",
          " Al Shatiea, Jeddah",
          " Al Aziziyah, Makkah",
          " Najran",
          " Al Rawda, Jeddah",
          " Sharurah",
          " Al Kharj",
          " Al Aqrabeyah, Al Khobar",
          " Al Tahlia Street, Jeddah",
          " Unayzah",
          " Qurish Street, Jeddah",
          " Al Baha",
          " Al Hofuf",
          " Al Ahsa",
          " Al Aziziyah, Riyadh",
          " Al Malaz, Riyadh",
          " Al Khafji",
          " Half Moon Bay",
          " Ţurayf",
          " Hafr Al Baten",
          " King Abdul Aziz Road, Jeddah",
          " Al Sulimania, Riyadh",
          " Al Nairyah",
          " Al Hada",
          " Al Jubayl",
          " Al Andalus, Jeddah",
          " Rabigh",
          " Al Qunfudhah",
          " Al Yarmouk, Al Khobar",
          " Muhayil",
          " Diplomatic Quarter, Riyadh",
          " Sari Street, Jeddah",
          " Al Hamra, Riyadh",
          " Baljurashi",
          " ‘Afīf",
          " Ahad Rafidah",
          " Al Majmaah",
          " Al Quway‘īyah",
          " Al Shafa",
          " North Obhr, Jeddah",
          " King Abdullah Economic City",
          " Abū Qa‘ar",
          " Al Ula",
          " Al Muraysīyah",
          " Butainiyāt",
          " Al Rass",
          " Palestine  Street, Jeddah",
          " Nughaylah",
          " Rayyis",
          " Al Jithāmīyah",
          " Qal'at Bishah",
          " Quai",
          " Al Wudayy",
          " Tanomah",
          " Jarwal",
          " As Sayl aş Şaghīr",
          " Nimrān",
          " Ar Ruqayyiqah",
          " Al Khuraybah",
          " Al ‘Aqrabīyah",
          " Al Bukayriyah",
          " Salhabah",
          " Aţ Ţuwayr",
          " Hotat bani tamim",
          " Al Fayşalīyah",
          " Raʼs Tannūrah",
          " Ad Dawādimī",
          " Al ‘Azīzīyah",
          " Al ‘Awālī",
          " Al Yamamah, Riyadh",
          " An Nikāshah",
          " Al Mikhlaf",
          " Al Bad‘",
          " Arar",
          " الطائف",
          " Umm Lajj",
          " Hafa",
          " Tathleeth",
          " Al Worood, Riyadh",
          " Al Kāmil",
          " Ad Darb",
          " Ar Riyad",
          " Dhahran",
          " Sirr Āl Ghalīz̧",
          " Al Fanātīr",
          " Al Ḩāyiţ",
          " Sulţānah",
          " Hajlah",
          " Ḩayy aş Şāliḩīyah",
          " Durat  Alarous",
          " Al Rawabi, Riyadh"
         ],
         "xaxis": "x",
         "y": [
          132,
          98,
          59,
          50,
          38,
          36,
          36,
          32,
          32,
          31,
          24,
          23,
          23,
          23,
          23,
          22,
          20,
          19,
          17,
          16,
          14,
          12,
          11,
          10,
          8,
          8,
          8,
          7,
          6,
          6,
          6,
          6,
          6,
          6,
          6,
          5,
          5,
          5,
          5,
          4,
          4,
          4,
          4,
          4,
          4,
          4,
          4,
          3,
          3,
          3,
          3,
          3,
          3,
          3,
          3,
          3,
          3,
          3,
          2,
          2,
          2,
          2,
          2,
          2,
          2,
          2,
          2,
          2,
          2,
          2,
          1,
          1,
          1,
          1,
          1,
          1,
          1,
          1,
          1,
          1,
          1,
          1,
          1,
          1,
          1,
          1,
          1,
          1,
          1,
          1,
          1,
          1,
          1,
          1,
          1,
          1,
          1,
          1,
          1,
          1,
          1,
          1,
          1,
          1,
          1,
          1,
          1,
          1,
          1,
          1,
          1,
          1
         ],
         "yaxis": "y"
        },
        {
         "name": "Type_of_room",
         "type": "bar",
         "x": [
          "One-Bedroom Apartment",
          "Double Room",
          "Studio",
          "Standard Studio",
          "Studio Apartment",
          "Standard Double Room",
          "Double or Twin Room",
          "Twin Room",
          "Deluxe Double Room",
          "Budget Double Room",
          "Standard Twin Room",
          "Deluxe Twin Room",
          "Standard Room",
          "Deluxe Room",
          "Apartment",
          "Deluxe King Room",
          "Deluxe Apartment",
          "Standard King Room",
          "Two-Bedroom Apartment",
          "One-Bedroom Suite",
          "Deluxe Studio",
          "Superior Twin Room",
          "Deluxe Double Room (2 Adults + 1 Child)",
          "Junior Suite",
          "Double Room with Private Bathroom",
          "Deluxe Double or Twin Room",
          "King Room",
          "Villa with Private Pool",
          "King Studio",
          "Superior King Room",
          "Economy Double Room",
          "Quadruple Room",
          "Standard Apartment",
          "Family Studio",
          "Superior Double Room",
          "Standard Studio Twin",
          "Twin Room with Private Bathroom",
          "Deluxe Room (2 Adults + 1 Child)",
          "Maisonette",
          "Queen Room",
          "Small Double Room",
          "Budget Twin Room",
          "Suite",
          "Double or Twin Room with Private Bathroom",
          "Deluxe Junior Suite",
          "Villa",
          "Deluxe Room (1 adult + 2 children)",
          "Triple Room with Private Bathroom",
          "Deluxe King Studio",
          "Superior Apartment",
          "Economy Twin Room",
          "Apartment with Sea View",
          "King Guest Room with Mobility Accessible",
          "Quadruple Room with Private Bathroom",
          "Two-Bedroom Suite",
          "Deluxe Family Room",
          "Classic King Room",
          "Standard  Room",
          "Double Studio",
          "Two-Bedroom Villa",
          "Economy Double or Twin Room",
          "Twin Room with Private External Bathroom",
          "Three-Bedroom Apartment",
          "Family Room",
          "Double or Twin Room with Bathroom",
          "One-Bedroom Chalet",
          "Standard Double or Twin Room",
          "Executive Studio",
          "Triple Room",
          "Superior Room",
          " Standard Studio Double",
          "Twin Studio",
          "Classic Triple Room",
          "Standard Queen Room",
          "Deluxe King Suite",
          "Deluxe Suite",
          "Standard Room King",
          "Deluxe Double Studio",
          "Three-Bedroom Villa",
          "Studio (2 Adults)",
          "Basic Triple Room with Shared Bathroom",
          "Deluxe King Studio City View  ",
          "Duplex Suite",
          "Classic King Room with City View",
          "Studio with Mountain View",
          "Deluxe Room, Guest room, 2 Double",
          "Deluxe Room, Guest room, 1 King",
          "Double Room with Shared Bathroom",
          "Economy Triple Room with Shared Bathroom",
          "Fairmont Room Twin City View",
          "Double Bed Studio",
          "Superior Queen Room with Two Queen Beds",
          "Classic King Room with City View City Tower",
          "Duplex Studio",
          "Deluxe Twin Room - Non-Smoking",
          "Triple Room with Bath",
          "Quadruple Room with Shared Bathroom",
          "Superior Room - Smoking",
          "Junior Suite with Balcony",
          "Economy Triple Room",
          "King Studio with Sofa Bed",
          "Deluxe Double Room (1 adult + 2 children)",
          "Apartment in The Roof (2 Adults + 1 Child)",
          "Standard Double Room with Shared Bathroom",
          "Superior Double or Twin Room",
          "Deluxe Guest Room, 1 King, City View",
          "Deluxe Double Room (1 adult + 1 child)",
          "Large Double or Twin Room",
          "Grand Non-smoking 1 King Bed Room",
          "Deluxe Double Room - Beach Front",
          "King Room with City View - Non-Smoking",
          "Superior Suite",
          "Standard room with 2 Single size beds ",
          "Twin Room - Smoking",
          "Twin Room with City View",
          "Deluxe Room King (Smoking)",
          "Standard Suite with City View",
          "Queen Guest Room",
          "Classic Guest Room, Guest room, 1 Queen, City view",
          "1 King Bed Superior Room",
          "Executive Suite, 1 Bedroom Executive Suite, Mountain view",
          "Guest Room, 1 King",
          "Deluxe Double Room with Two Double Beds",
          "Family Suite",
          "Standard Queen Room with Two Queen Beds",
          "Ruby",
          "One-Bedroom with Shared Bathroom",
          "Twin Junior Suite",
          "Apartment With Shared Bathroom",
          "One-Bedroom King Villa",
          "Deluxe Queen Room with Two Queen Beds",
          "Deluxe Single Room",
          "شقه غرفة نوم واحده بدون صاله",
          "Deluxe Twin Room with Partial Sea View",
          "Standard Room Twin",
          "Twin Guest Room",
          "Superior Room With 2 Single Beds And 1 Sofa",
          "Twin Room City View",
          "Standard Twin Room with Sofa",
          "Classic King Room Haram",
          "Family Room with Bathroom",
          "Deluxe Twin Room with Garden View",
          "Economy Single Room",
          "Twin Room with Two Twin Beds - Non-Smoking",
          "Standard King Room, Guest room, 1 King",
          "Apartment with Garden View",
          "Standard Room Twin, Guest room,  Twin/Single Bed(s)",
          "Classic Twin Room - Cityside",
          "Superior Room with Twin beds",
          "Special Offer - Twin Room",
          "Superior Studio",
          "Holiday Home",
          "1 Bedroom Apartment, 1 King",
          "Suite with Balcony",
          "Deluxe King Room - Non-Smoking",
          "Small Room",
          "1 King Bed, One-Bedroom, City View",
          "Standard Twin Room - Smoking",
          "Room with Private Bathroom",
          "Studio Premier",
          "Deluxe Room with Two Beds - Smoking",
          "Standard King Bed Room Haram View",
          "Standard Studio Double",
          "Standard Family Room",
          "1 King Guestroom",
          "Single Room",
          "Deluxe Double Room with Bath",
          "Traditional King City Vie, Guest room, 1 King, City view",
          "Classic Room, Guest room, 1 Queen",
          "Deluxe Double Room without Pool",
          "Standard, Guest room, 2 Twin/Single Bed(s)",
          "Signature Suite City View",
          "Three-Bedroom Garden Villa",
          "Standard Single Room",
          "Studio Executive",
          "Superior Triple Room",
          "Junior Suite Sea View",
          "Double Room - Mobility Access/Smoking",
          "Double or Twin Bed with Sea View Room",
          "Superior King with Balcony City View",
          "Economy Room",
          "Apartment with Pool View ",
          "Premium Room King Bed",
          "Standard King Room with City View",
          "Studio with City View",
          "Deluxe Room with 2 single beds, City side",
          "Classic Twin Room with City View",
          " Standard Studio",
          "Twin Room with Pool View",
          "Deluxe Queen Room",
          "Two-Bedroom Deluxe Apartment",
          "Two-Bedroom Chalet",
          "Superior Twin Room - Smoking",
          "Deluxe Room Twin, Guest room, 2 Twin/Single Bed(s), Sea view",
          "Classic Twin Room",
          "Superior Twin Room with City View",
          "King Leisure Room - Smoking",
          "Deluxe Villa",
          "Deluxe King Room with Partial Haram View ",
          "Two-Bedroom Sunset Villa with Sea View",
          "Superior King Room with Pool View",
          "Deluxe Room Twin ",
          "King Suite",
          "Deluxe Studio Suite - Non-Smoking",
          "Double Room with Bathroom",
          "Junior Villa",
          "Villa with Sea View",
          "Economy Studio",
          "Superior One-Bedroom Apartment",
          "Superior Room with 1 Queen Bed - City View",
          "Business King Room",
          "Small Twin Room",
          "Budget Room",
          "Studio - Split Level",
          "Grand Room",
          "Superior Queen Room",
          "Superior Double Room with Mountain View",
          "2 Single Deluxe Partial Haram View",
          "Hyatt Twin Deluxe",
          "Aloft Room, Guest room, 1 King",
          "Guest room, 2 Double",
          "Mahar Chalet one bedroom with Balcony",
          "Deluxe King Room - Smoking",
          "King Room - Non-Smoking",
          "One-Bedroom Suite - Double Bed",
          "Apartment - Ground Floor",
          "One-Bedroom Villa",
          "Twin Room with Bathroom",
          " Deluxe Studio Twin ",
          "Classic Room",
          "Standard two single bed, Guest room",
          "Standard Suite",
          "Double Room with Two Double Beds",
          "Executive Queen Room with Two Queen Beds",
          "Junior Suite with King Bed",
          "Standard Room, Guest room, Queen, City view, Side Wing"
         ],
         "xaxis": "x2",
         "y": [
          134,
          73,
          72,
          50,
          41,
          37,
          36,
          32,
          25,
          19,
          16,
          15,
          14,
          14,
          14,
          13,
          12,
          11,
          11,
          11,
          10,
          8,
          8,
          8,
          7,
          7,
          7,
          6,
          6,
          6,
          6,
          6,
          6,
          6,
          6,
          5,
          5,
          5,
          4,
          4,
          4,
          4,
          4,
          3,
          3,
          3,
          3,
          3,
          3,
          3,
          2,
          2,
          2,
          2,
          2,
          2,
          2,
          2,
          2,
          2,
          2,
          2,
          2,
          2,
          2,
          2,
          2,
          2,
          2,
          2,
          2,
          2,
          2,
          2,
          2,
          2,
          2,
          2,
          2,
          1,
          1,
          1,
          1,
          1,
          1,
          1,
          1,
          1,
          1,
          1,
          1,
          1,
          1,
          1,
          1,
          1,
          1,
          1,
          1,
          1,
          1,
          1,
          1,
          1,
          1,
          1,
          1,
          1,
          1,
          1,
          1,
          1,
          1,
          1,
          1,
          1,
          1,
          1,
          1,
          1,
          1,
          1,
          1,
          1,
          1,
          1,
          1,
          1,
          1,
          1,
          1,
          1,
          1,
          1,
          1,
          1,
          1,
          1,
          1,
          1,
          1,
          1,
          1,
          1,
          1,
          1,
          1,
          1,
          1,
          1,
          1,
          1,
          1,
          1,
          1,
          1,
          1,
          1,
          1,
          1,
          1,
          1,
          1,
          1,
          1,
          1,
          1,
          1,
          1,
          1,
          1,
          1,
          1,
          1,
          1,
          1,
          1,
          1,
          1,
          1,
          1,
          1,
          1,
          1,
          1,
          1,
          1,
          1,
          1,
          1,
          1,
          1,
          1,
          1,
          1,
          1,
          1,
          1,
          1,
          1,
          1,
          1,
          1,
          1,
          1,
          1,
          1,
          1,
          1,
          1,
          1,
          1,
          1,
          1,
          1,
          1,
          1,
          1,
          1,
          1,
          1,
          1,
          1,
          1,
          1,
          1,
          1,
          1,
          1,
          1,
          1,
          1,
          1,
          1,
          1,
          1
         ],
         "yaxis": "y2"
        },
        {
         "name": "Max_persons",
         "type": "bar",
         "x": [
          "Max persons: 2",
          "Max persons: 3",
          "Max persons: 4",
          "Max persons: 6",
          "Max persons: 5",
          "Max persons: 7",
          "Max persons: 1",
          "Max persons: 10",
          "Max persons: 9",
          "Max persons: 21",
          "Max persons: 12",
          "Max persons: 8"
         ],
         "xaxis": "x3",
         "y": [
          899,
          55,
          33,
          17,
          9,
          3,
          2,
          2,
          2,
          1,
          1,
          1
         ],
         "yaxis": "y3"
        },
        {
         "name": "Bed_type",
         "type": "bar",
         "x": [
          "1 bed\n(1 extra-large double)",
          "2 beds\n(2 singles)",
          "1 bed\n(1 large double)",
          "1 bed\n(1 double)",
          "2 beds\n(1 extra-large double, 1 sofa bed)",
          "3 beds\n(3 singles)",
          "4 beds\n(4 singles)",
          "1 bed\n(1 single)",
          "2 beds\n(2 doubles)",
          "2 beds\n(1 double, 1 sofa bed)",
          "3 beds\n(2 singles, 1 extra-large double)",
          "2 beds\n(1 sofa bed, 1 large double)",
          "3 beds\n(2 singles, 1 sofa bed)",
          "3 beds\n(2 singles, 1 large double)",
          "2 beds\n(2 large doubles)",
          "4 beds\n(1 extra-large double, 3 sofa beds)",
          "2 beds\n(2 extra-large doubles)",
          "3 beds\n(1 extra-large double, 2 sofa beds)",
          "2 beds\n(1 single, 1 sofa bed)",
          "5 beds\n(5 singles)",
          "5 beds\n(1 extra-large double, 4 sofa beds)",
          "5 beds\n(2 singles, 2 sofa beds, 1 large double)",
          "5 beds\n(2 singles, 1 extra-large double, 2 sofa beds)",
          "4 beds\n(1 double, 3 sofa beds)",
          "3 beds\n(3 doubles)",
          "5 beds\n(2 singles, 1 extra-large double, 1 sofa bed, 1 large double)",
          "2 beds\n(1 single, 1 extra-large double)",
          "4 beds\n(2 extra-large doubles, 2 sofa beds)",
          "4 beds\n(1 single, 1 double, 2 large doubles)",
          "6 beds\n(2 singles, 1 double, 3 sofa beds)",
          "6 beds\n(6 singles)",
          "3 beds\n(1 sofa bed, 2 large doubles)",
          "4 beds\n(3 singles, 1 double)",
          "4 beds\n(2 singles, 2 doubles)",
          "5 beds\n(4 bunk beds, 1 large double)",
          "9 beds\n(5 singles, 2 sofa beds, 2 large doubles)",
          "3 beds\n(2 sofa beds, 1 large double)",
          "3 beds\n(3 sofa beds)",
          "7 beds\n(4 singles, 1 extra-large double, 2 sofa beds)",
          "19 beds\n(1 extra-large double, 18 sofa beds)",
          "3 beds\n(3 large doubles)",
          "6 beds\n(1 extra-large double, 3 sofa beds, 2 large doubles)",
          "5 beds\n(2 doubles, 1 extra-large double, 2 futons)",
          "21 beds\n(15 singles, 6 sofa beds)",
          "2 beds\n(1 single, 1 large double)",
          "1 bed\n(1 sofa bed)",
          "5 beds\n(2 singles, 1 double, 2 sofa beds)",
          "12 beds\n(2 singles, 1 extra-large double, 9 sofa beds)",
          "4 beds\n(3 singles, 1 extra-large double)",
          "2 beds\n(1 single, 1 bunk bed)",
          "3 beds\n(1 single, 1 double, 1 sofa bed)",
          "5 beds\n(4 singles, 1 large double)",
          "5 beds\n(4 singles, 1 extra-large double)",
          "5 beds\n(4 singles, 1 double)",
          "9 beds\n(9 singles)",
          "9 beds\n(4 singles, 1 extra-large double, 4 sofa beds)",
          "4 beds\n(3 sofa beds, 1 large double)",
          "4 beds\n(3 singles, 1 sofa bed)",
          "23 beds\n(10 singles, 1 extra-large double, 12 sofa beds)",
          "4 beds\n(2 singles, 1 extra-large double, 1 sofa bed)",
          "3 beds\n(2 doubles, 1 sofa bed)",
          "3 beds\n(2 doubles, 1 large double)",
          "4 beds\n(1 double, 1 sofa bed, 2 large doubles)",
          "2 beds\n(2 sofa beds)",
          "15 beds\n(2 singles, 1 extra-large double, 12 sofa beds)"
         ],
         "xaxis": "x4",
         "y": [
          277,
          235,
          166,
          160,
          23,
          16,
          11,
          10,
          9,
          7,
          7,
          6,
          6,
          5,
          4,
          4,
          3,
          3,
          2,
          2,
          2,
          2,
          2,
          2,
          2,
          1,
          1,
          1,
          1,
          1,
          1,
          1,
          1,
          1,
          1,
          1,
          1,
          1,
          1,
          1,
          1,
          1,
          1,
          1,
          1,
          1,
          1,
          1,
          1,
          1,
          1,
          1,
          1,
          1,
          1,
          1,
          1,
          1,
          1,
          1,
          1,
          1,
          1,
          1,
          1
         ],
         "yaxis": "y4"
        }
       ],
       "layout": {
        "annotations": [
         {
          "font": {
           "size": 16
          },
          "showarrow": false,
          "text": "City",
          "x": 0.225,
          "xanchor": "center",
          "xref": "paper",
          "y": 1,
          "yanchor": "bottom",
          "yref": "paper"
         },
         {
          "font": {
           "size": 16
          },
          "showarrow": false,
          "text": "Type of room",
          "x": 0.775,
          "xanchor": "center",
          "xref": "paper",
          "y": 1,
          "yanchor": "bottom",
          "yref": "paper"
         },
         {
          "font": {
           "size": 16
          },
          "showarrow": false,
          "text": "Max persons",
          "x": 0.225,
          "xanchor": "center",
          "xref": "paper",
          "y": 0.375,
          "yanchor": "bottom",
          "yref": "paper"
         },
         {
          "font": {
           "size": 16
          },
          "showarrow": false,
          "text": "Bed type",
          "x": 0.775,
          "xanchor": "center",
          "xref": "paper",
          "y": 0.375,
          "yanchor": "bottom",
          "yref": "paper"
         }
        ],
        "height": 1500,
        "template": {
         "data": {
          "bar": [
           {
            "error_x": {
             "color": "#2a3f5f"
            },
            "error_y": {
             "color": "#2a3f5f"
            },
            "marker": {
             "line": {
              "color": "#E5ECF6",
              "width": 0.5
             },
             "pattern": {
              "fillmode": "overlay",
              "size": 10,
              "solidity": 0.2
             }
            },
            "type": "bar"
           }
          ],
          "barpolar": [
           {
            "marker": {
             "line": {
              "color": "#E5ECF6",
              "width": 0.5
             },
             "pattern": {
              "fillmode": "overlay",
              "size": 10,
              "solidity": 0.2
             }
            },
            "type": "barpolar"
           }
          ],
          "carpet": [
           {
            "aaxis": {
             "endlinecolor": "#2a3f5f",
             "gridcolor": "white",
             "linecolor": "white",
             "minorgridcolor": "white",
             "startlinecolor": "#2a3f5f"
            },
            "baxis": {
             "endlinecolor": "#2a3f5f",
             "gridcolor": "white",
             "linecolor": "white",
             "minorgridcolor": "white",
             "startlinecolor": "#2a3f5f"
            },
            "type": "carpet"
           }
          ],
          "choropleth": [
           {
            "colorbar": {
             "outlinewidth": 0,
             "ticks": ""
            },
            "type": "choropleth"
           }
          ],
          "contour": [
           {
            "colorbar": {
             "outlinewidth": 0,
             "ticks": ""
            },
            "colorscale": [
             [
              0,
              "#0d0887"
             ],
             [
              0.1111111111111111,
              "#46039f"
             ],
             [
              0.2222222222222222,
              "#7201a8"
             ],
             [
              0.3333333333333333,
              "#9c179e"
             ],
             [
              0.4444444444444444,
              "#bd3786"
             ],
             [
              0.5555555555555556,
              "#d8576b"
             ],
             [
              0.6666666666666666,
              "#ed7953"
             ],
             [
              0.7777777777777778,
              "#fb9f3a"
             ],
             [
              0.8888888888888888,
              "#fdca26"
             ],
             [
              1,
              "#f0f921"
             ]
            ],
            "type": "contour"
           }
          ],
          "contourcarpet": [
           {
            "colorbar": {
             "outlinewidth": 0,
             "ticks": ""
            },
            "type": "contourcarpet"
           }
          ],
          "heatmap": [
           {
            "colorbar": {
             "outlinewidth": 0,
             "ticks": ""
            },
            "colorscale": [
             [
              0,
              "#0d0887"
             ],
             [
              0.1111111111111111,
              "#46039f"
             ],
             [
              0.2222222222222222,
              "#7201a8"
             ],
             [
              0.3333333333333333,
              "#9c179e"
             ],
             [
              0.4444444444444444,
              "#bd3786"
             ],
             [
              0.5555555555555556,
              "#d8576b"
             ],
             [
              0.6666666666666666,
              "#ed7953"
             ],
             [
              0.7777777777777778,
              "#fb9f3a"
             ],
             [
              0.8888888888888888,
              "#fdca26"
             ],
             [
              1,
              "#f0f921"
             ]
            ],
            "type": "heatmap"
           }
          ],
          "heatmapgl": [
           {
            "colorbar": {
             "outlinewidth": 0,
             "ticks": ""
            },
            "colorscale": [
             [
              0,
              "#0d0887"
             ],
             [
              0.1111111111111111,
              "#46039f"
             ],
             [
              0.2222222222222222,
              "#7201a8"
             ],
             [
              0.3333333333333333,
              "#9c179e"
             ],
             [
              0.4444444444444444,
              "#bd3786"
             ],
             [
              0.5555555555555556,
              "#d8576b"
             ],
             [
              0.6666666666666666,
              "#ed7953"
             ],
             [
              0.7777777777777778,
              "#fb9f3a"
             ],
             [
              0.8888888888888888,
              "#fdca26"
             ],
             [
              1,
              "#f0f921"
             ]
            ],
            "type": "heatmapgl"
           }
          ],
          "histogram": [
           {
            "marker": {
             "pattern": {
              "fillmode": "overlay",
              "size": 10,
              "solidity": 0.2
             }
            },
            "type": "histogram"
           }
          ],
          "histogram2d": [
           {
            "colorbar": {
             "outlinewidth": 0,
             "ticks": ""
            },
            "colorscale": [
             [
              0,
              "#0d0887"
             ],
             [
              0.1111111111111111,
              "#46039f"
             ],
             [
              0.2222222222222222,
              "#7201a8"
             ],
             [
              0.3333333333333333,
              "#9c179e"
             ],
             [
              0.4444444444444444,
              "#bd3786"
             ],
             [
              0.5555555555555556,
              "#d8576b"
             ],
             [
              0.6666666666666666,
              "#ed7953"
             ],
             [
              0.7777777777777778,
              "#fb9f3a"
             ],
             [
              0.8888888888888888,
              "#fdca26"
             ],
             [
              1,
              "#f0f921"
             ]
            ],
            "type": "histogram2d"
           }
          ],
          "histogram2dcontour": [
           {
            "colorbar": {
             "outlinewidth": 0,
             "ticks": ""
            },
            "colorscale": [
             [
              0,
              "#0d0887"
             ],
             [
              0.1111111111111111,
              "#46039f"
             ],
             [
              0.2222222222222222,
              "#7201a8"
             ],
             [
              0.3333333333333333,
              "#9c179e"
             ],
             [
              0.4444444444444444,
              "#bd3786"
             ],
             [
              0.5555555555555556,
              "#d8576b"
             ],
             [
              0.6666666666666666,
              "#ed7953"
             ],
             [
              0.7777777777777778,
              "#fb9f3a"
             ],
             [
              0.8888888888888888,
              "#fdca26"
             ],
             [
              1,
              "#f0f921"
             ]
            ],
            "type": "histogram2dcontour"
           }
          ],
          "mesh3d": [
           {
            "colorbar": {
             "outlinewidth": 0,
             "ticks": ""
            },
            "type": "mesh3d"
           }
          ],
          "parcoords": [
           {
            "line": {
             "colorbar": {
              "outlinewidth": 0,
              "ticks": ""
             }
            },
            "type": "parcoords"
           }
          ],
          "pie": [
           {
            "automargin": true,
            "type": "pie"
           }
          ],
          "scatter": [
           {
            "fillpattern": {
             "fillmode": "overlay",
             "size": 10,
             "solidity": 0.2
            },
            "type": "scatter"
           }
          ],
          "scatter3d": [
           {
            "line": {
             "colorbar": {
              "outlinewidth": 0,
              "ticks": ""
             }
            },
            "marker": {
             "colorbar": {
              "outlinewidth": 0,
              "ticks": ""
             }
            },
            "type": "scatter3d"
           }
          ],
          "scattercarpet": [
           {
            "marker": {
             "colorbar": {
              "outlinewidth": 0,
              "ticks": ""
             }
            },
            "type": "scattercarpet"
           }
          ],
          "scattergeo": [
           {
            "marker": {
             "colorbar": {
              "outlinewidth": 0,
              "ticks": ""
             }
            },
            "type": "scattergeo"
           }
          ],
          "scattergl": [
           {
            "marker": {
             "colorbar": {
              "outlinewidth": 0,
              "ticks": ""
             }
            },
            "type": "scattergl"
           }
          ],
          "scattermapbox": [
           {
            "marker": {
             "colorbar": {
              "outlinewidth": 0,
              "ticks": ""
             }
            },
            "type": "scattermapbox"
           }
          ],
          "scatterpolar": [
           {
            "marker": {
             "colorbar": {
              "outlinewidth": 0,
              "ticks": ""
             }
            },
            "type": "scatterpolar"
           }
          ],
          "scatterpolargl": [
           {
            "marker": {
             "colorbar": {
              "outlinewidth": 0,
              "ticks": ""
             }
            },
            "type": "scatterpolargl"
           }
          ],
          "scatterternary": [
           {
            "marker": {
             "colorbar": {
              "outlinewidth": 0,
              "ticks": ""
             }
            },
            "type": "scatterternary"
           }
          ],
          "surface": [
           {
            "colorbar": {
             "outlinewidth": 0,
             "ticks": ""
            },
            "colorscale": [
             [
              0,
              "#0d0887"
             ],
             [
              0.1111111111111111,
              "#46039f"
             ],
             [
              0.2222222222222222,
              "#7201a8"
             ],
             [
              0.3333333333333333,
              "#9c179e"
             ],
             [
              0.4444444444444444,
              "#bd3786"
             ],
             [
              0.5555555555555556,
              "#d8576b"
             ],
             [
              0.6666666666666666,
              "#ed7953"
             ],
             [
              0.7777777777777778,
              "#fb9f3a"
             ],
             [
              0.8888888888888888,
              "#fdca26"
             ],
             [
              1,
              "#f0f921"
             ]
            ],
            "type": "surface"
           }
          ],
          "table": [
           {
            "cells": {
             "fill": {
              "color": "#EBF0F8"
             },
             "line": {
              "color": "white"
             }
            },
            "header": {
             "fill": {
              "color": "#C8D4E3"
             },
             "line": {
              "color": "white"
             }
            },
            "type": "table"
           }
          ]
         },
         "layout": {
          "annotationdefaults": {
           "arrowcolor": "#2a3f5f",
           "arrowhead": 0,
           "arrowwidth": 1
          },
          "autotypenumbers": "strict",
          "coloraxis": {
           "colorbar": {
            "outlinewidth": 0,
            "ticks": ""
           }
          },
          "colorscale": {
           "diverging": [
            [
             0,
             "#8e0152"
            ],
            [
             0.1,
             "#c51b7d"
            ],
            [
             0.2,
             "#de77ae"
            ],
            [
             0.3,
             "#f1b6da"
            ],
            [
             0.4,
             "#fde0ef"
            ],
            [
             0.5,
             "#f7f7f7"
            ],
            [
             0.6,
             "#e6f5d0"
            ],
            [
             0.7,
             "#b8e186"
            ],
            [
             0.8,
             "#7fbc41"
            ],
            [
             0.9,
             "#4d9221"
            ],
            [
             1,
             "#276419"
            ]
           ],
           "sequential": [
            [
             0,
             "#0d0887"
            ],
            [
             0.1111111111111111,
             "#46039f"
            ],
            [
             0.2222222222222222,
             "#7201a8"
            ],
            [
             0.3333333333333333,
             "#9c179e"
            ],
            [
             0.4444444444444444,
             "#bd3786"
            ],
            [
             0.5555555555555556,
             "#d8576b"
            ],
            [
             0.6666666666666666,
             "#ed7953"
            ],
            [
             0.7777777777777778,
             "#fb9f3a"
            ],
            [
             0.8888888888888888,
             "#fdca26"
            ],
            [
             1,
             "#f0f921"
            ]
           ],
           "sequentialminus": [
            [
             0,
             "#0d0887"
            ],
            [
             0.1111111111111111,
             "#46039f"
            ],
            [
             0.2222222222222222,
             "#7201a8"
            ],
            [
             0.3333333333333333,
             "#9c179e"
            ],
            [
             0.4444444444444444,
             "#bd3786"
            ],
            [
             0.5555555555555556,
             "#d8576b"
            ],
            [
             0.6666666666666666,
             "#ed7953"
            ],
            [
             0.7777777777777778,
             "#fb9f3a"
            ],
            [
             0.8888888888888888,
             "#fdca26"
            ],
            [
             1,
             "#f0f921"
            ]
           ]
          },
          "colorway": [
           "#636efa",
           "#EF553B",
           "#00cc96",
           "#ab63fa",
           "#FFA15A",
           "#19d3f3",
           "#FF6692",
           "#B6E880",
           "#FF97FF",
           "#FECB52"
          ],
          "font": {
           "color": "#2a3f5f"
          },
          "geo": {
           "bgcolor": "white",
           "lakecolor": "white",
           "landcolor": "#E5ECF6",
           "showlakes": true,
           "showland": true,
           "subunitcolor": "white"
          },
          "hoverlabel": {
           "align": "left"
          },
          "hovermode": "closest",
          "mapbox": {
           "style": "light"
          },
          "paper_bgcolor": "white",
          "plot_bgcolor": "#E5ECF6",
          "polar": {
           "angularaxis": {
            "gridcolor": "white",
            "linecolor": "white",
            "ticks": ""
           },
           "bgcolor": "#E5ECF6",
           "radialaxis": {
            "gridcolor": "white",
            "linecolor": "white",
            "ticks": ""
           }
          },
          "scene": {
           "xaxis": {
            "backgroundcolor": "#E5ECF6",
            "gridcolor": "white",
            "gridwidth": 2,
            "linecolor": "white",
            "showbackground": true,
            "ticks": "",
            "zerolinecolor": "white"
           },
           "yaxis": {
            "backgroundcolor": "#E5ECF6",
            "gridcolor": "white",
            "gridwidth": 2,
            "linecolor": "white",
            "showbackground": true,
            "ticks": "",
            "zerolinecolor": "white"
           },
           "zaxis": {
            "backgroundcolor": "#E5ECF6",
            "gridcolor": "white",
            "gridwidth": 2,
            "linecolor": "white",
            "showbackground": true,
            "ticks": "",
            "zerolinecolor": "white"
           }
          },
          "shapedefaults": {
           "line": {
            "color": "#2a3f5f"
           }
          },
          "ternary": {
           "aaxis": {
            "gridcolor": "white",
            "linecolor": "white",
            "ticks": ""
           },
           "baxis": {
            "gridcolor": "white",
            "linecolor": "white",
            "ticks": ""
           },
           "bgcolor": "#E5ECF6",
           "caxis": {
            "gridcolor": "white",
            "linecolor": "white",
            "ticks": ""
           }
          },
          "title": {
           "x": 0.05
          },
          "xaxis": {
           "automargin": true,
           "gridcolor": "white",
           "linecolor": "white",
           "ticks": "",
           "title": {
            "standoff": 15
           },
           "zerolinecolor": "white",
           "zerolinewidth": 2
          },
          "yaxis": {
           "automargin": true,
           "gridcolor": "white",
           "linecolor": "white",
           "ticks": "",
           "title": {
            "standoff": 15
           },
           "zerolinecolor": "white",
           "zerolinewidth": 2
          }
         }
        },
        "title": {
         "text": "The distribution of categorical data"
        },
        "width": 2000,
        "xaxis": {
         "anchor": "y",
         "domain": [
          0,
          0.45
         ]
        },
        "xaxis2": {
         "anchor": "y2",
         "domain": [
          0.55,
          1
         ]
        },
        "xaxis3": {
         "anchor": "y3",
         "domain": [
          0,
          0.45
         ]
        },
        "xaxis4": {
         "anchor": "y4",
         "domain": [
          0.55,
          1
         ]
        },
        "yaxis": {
         "anchor": "x",
         "domain": [
          0.625,
          1
         ]
        },
        "yaxis2": {
         "anchor": "x2",
         "domain": [
          0.625,
          1
         ]
        },
        "yaxis3": {
         "anchor": "x3",
         "domain": [
          0,
          0.375
         ]
        },
        "yaxis4": {
         "anchor": "x4",
         "domain": [
          0,
          0.375
         ]
        }
       }
      },
      "text/html": [
       "<div>                            <div id=\"c6bd4ed3-1439-4319-81ba-c64f56ffc2fb\" class=\"plotly-graph-div\" style=\"height:1500px; width:2000px;\"></div>            <script type=\"text/javascript\">                require([\"plotly\"], function(Plotly) {                    window.PLOTLYENV=window.PLOTLYENV || {};                                    if (document.getElementById(\"c6bd4ed3-1439-4319-81ba-c64f56ffc2fb\")) {                    Plotly.newPlot(                        \"c6bd4ed3-1439-4319-81ba-c64f56ffc2fb\",                        [{\"name\":\"City\",\"x\":[\" Riyadh\",\" Jeddah\",\" Dammam\",\" Makkah\",\" Al Olayya, Al Khobar\",\" Abha\",\" Al Khobar\",\" Yanbu\",\" Taif\",\" Buraydah\",\" Al Madinah\",\" Jazan\",\" Ajyad, Makkah\",\" Tabuk\",\" Hera Street, Jeddah\",\" Al Hamra, Jeddah\",\" Khamis Mushayt\",\" Al Salamah, Jeddah\",\" Hail\",\" Al Jubail\",\" Al Olaya, Riyadh\",\" Central Madinah, Al Madinah\",\" Al Shatiea, Jeddah\",\" Al Aziziyah, Makkah\",\" Najran\",\" Al Rawda, Jeddah\",\" Sharurah\",\" Al Kharj\",\" Al Aqrabeyah, Al Khobar\",\" Al Tahlia Street, Jeddah\",\" Unayzah\",\" Qurish Street, Jeddah\",\" Al Baha\",\" Al Hofuf\",\" Al Ahsa\",\" Al Aziziyah, Riyadh\",\" Al Malaz, Riyadh\",\" Al Khafji\",\" Half Moon Bay\",\" \\u0162urayf\",\" Hafr Al Baten\",\" King Abdul Aziz Road, Jeddah\",\" Al Sulimania, Riyadh\",\" Al Nairyah\",\" Al Hada\",\" Al Jubayl\",\" Al Andalus, Jeddah\",\" Rabigh\",\" Al Qunfudhah\",\" Al Yarmouk, Al Khobar\",\" Muhayil\",\" Diplomatic Quarter, Riyadh\",\" Sari Street, Jeddah\",\" Al Hamra, Riyadh\",\" Baljurashi\",\" \\u2018Af\\u012bf\",\" Ahad Rafidah\",\" Al Majmaah\",\" Al Quway\\u2018\\u012byah\",\" Al Shafa\",\" North Obhr, Jeddah\",\" King Abdullah Economic City\",\" Ab\\u016b Qa\\u2018ar\",\" Al Ula\",\" Al Murays\\u012byah\",\" Butainiy\\u0101t\",\" Al Rass\",\" Palestine  Street, Jeddah\",\" Nughaylah\",\" Rayyis\",\" Al Jith\\u0101m\\u012byah\",\" Qal'at Bishah\",\" Quai\",\" Al Wudayy\",\" Tanomah\",\" Jarwal\",\" As Sayl a\\u015f \\u015eagh\\u012br\",\" Nimr\\u0101n\",\" Ar Ruqayyiqah\",\" Al Khuraybah\",\" Al \\u2018Aqrab\\u012byah\",\" Al Bukayriyah\",\" Salhabah\",\" A\\u0163 \\u0162uwayr\",\" Hotat bani tamim\",\" Al Fay\\u015fal\\u012byah\",\" Ra\\u02bcs Tann\\u016brah\",\" Ad Daw\\u0101dim\\u012b\",\" Al \\u2018Az\\u012bz\\u012byah\",\" Al \\u2018Aw\\u0101l\\u012b\",\" Al Yamamah, Riyadh\",\" An Nik\\u0101shah\",\" Al Mikhlaf\",\" Al Bad\\u2018\",\" Arar\",\" \\u0627\\u0644\\u0637\\u0627\\u0626\\u0641\",\" Umm Lajj\",\" Hafa\",\" Tathleeth\",\" Al Worood, Riyadh\",\" Al K\\u0101mil\",\" Ad Darb\",\" Ar Riyad\",\" Dhahran\",\" Sirr \\u0100l Ghal\\u012bz\\u0327\",\" Al Fan\\u0101t\\u012br\",\" Al \\u1e28\\u0101yi\\u0163\",\" Sul\\u0163\\u0101nah\",\" Hajlah\",\" \\u1e28ayy a\\u015f \\u015e\\u0101li\\u1e29\\u012byah\",\" Durat  Alarous\",\" Al Rawabi, Riyadh\"],\"y\":[132,98,59,50,38,36,36,32,32,31,24,23,23,23,23,22,20,19,17,16,14,12,11,10,8,8,8,7,6,6,6,6,6,6,6,5,5,5,5,4,4,4,4,4,4,4,4,3,3,3,3,3,3,3,3,3,3,3,2,2,2,2,2,2,2,2,2,2,2,2,1,1,1,1,1,1,1,1,1,1,1,1,1,1,1,1,1,1,1,1,1,1,1,1,1,1,1,1,1,1,1,1,1,1,1,1,1,1,1,1,1,1],\"type\":\"bar\",\"xaxis\":\"x\",\"yaxis\":\"y\"},{\"name\":\"Type_of_room\",\"x\":[\"One-Bedroom Apartment\",\"Double Room\",\"Studio\",\"Standard Studio\",\"Studio Apartment\",\"Standard Double Room\",\"Double or Twin Room\",\"Twin Room\",\"Deluxe Double Room\",\"Budget Double Room\",\"Standard Twin Room\",\"Deluxe Twin Room\",\"Standard Room\",\"Deluxe Room\",\"Apartment\",\"Deluxe King Room\",\"Deluxe Apartment\",\"Standard King Room\",\"Two-Bedroom Apartment\",\"One-Bedroom Suite\",\"Deluxe Studio\",\"Superior Twin Room\",\"Deluxe Double Room (2 Adults + 1 Child)\",\"Junior Suite\",\"Double Room with Private Bathroom\",\"Deluxe Double or Twin Room\",\"King Room\",\"Villa with Private Pool\",\"King Studio\",\"Superior King Room\",\"Economy Double Room\",\"Quadruple Room\",\"Standard Apartment\",\"Family Studio\",\"Superior Double Room\",\"Standard Studio Twin\",\"Twin Room with Private Bathroom\",\"Deluxe Room (2 Adults + 1 Child)\",\"Maisonette\",\"Queen Room\",\"Small Double Room\",\"Budget Twin Room\",\"Suite\",\"Double or Twin Room with Private Bathroom\",\"Deluxe Junior Suite\",\"Villa\",\"Deluxe Room (1 adult + 2 children)\",\"Triple Room with Private Bathroom\",\"Deluxe King Studio\",\"Superior Apartment\",\"Economy Twin Room\",\"Apartment with Sea View\",\"King Guest Room with Mobility Accessible\",\"Quadruple Room with Private Bathroom\",\"Two-Bedroom Suite\",\"Deluxe Family Room\",\"Classic King Room\",\"Standard  Room\",\"Double Studio\",\"Two-Bedroom Villa\",\"Economy Double or Twin Room\",\"Twin Room with Private External Bathroom\",\"Three-Bedroom Apartment\",\"Family Room\",\"Double or Twin Room with Bathroom\",\"One-Bedroom Chalet\",\"Standard Double or Twin Room\",\"Executive Studio\",\"Triple Room\",\"Superior Room\",\" Standard Studio Double\",\"Twin Studio\",\"Classic Triple Room\",\"Standard Queen Room\",\"Deluxe King Suite\",\"Deluxe Suite\",\"Standard Room King\",\"Deluxe Double Studio\",\"Three-Bedroom Villa\",\"Studio (2 Adults)\",\"Basic Triple Room with Shared Bathroom\",\"Deluxe King Studio City View  \",\"Duplex Suite\",\"Classic King Room with City View\",\"Studio with Mountain View\",\"Deluxe Room, Guest room, 2 Double\",\"Deluxe Room, Guest room, 1 King\",\"Double Room with Shared Bathroom\",\"Economy Triple Room with Shared Bathroom\",\"Fairmont Room Twin City View\",\"Double Bed Studio\",\"Superior Queen Room with Two Queen Beds\",\"Classic King Room with City View City Tower\",\"Duplex Studio\",\"Deluxe Twin Room - Non-Smoking\",\"Triple Room with Bath\",\"Quadruple Room with Shared Bathroom\",\"Superior Room - Smoking\",\"Junior Suite with Balcony\",\"Economy Triple Room\",\"King Studio with Sofa Bed\",\"Deluxe Double Room (1 adult + 2 children)\",\"Apartment in The Roof (2 Adults + 1 Child)\",\"Standard Double Room with Shared Bathroom\",\"Superior Double or Twin Room\",\"Deluxe Guest Room, 1 King, City View\",\"Deluxe Double Room (1 adult + 1 child)\",\"Large Double or Twin Room\",\"Grand Non-smoking 1 King Bed Room\",\"Deluxe Double Room - Beach Front\",\"King Room with City View - Non-Smoking\",\"Superior Suite\",\"Standard room with 2 Single size beds \",\"Twin Room - Smoking\",\"Twin Room with City View\",\"Deluxe Room King (Smoking)\",\"Standard Suite with City View\",\"Queen Guest Room\",\"Classic Guest Room, Guest room, 1 Queen, City view\",\"1 King Bed Superior Room\",\"Executive Suite, 1 Bedroom Executive Suite, Mountain view\",\"Guest Room, 1 King\",\"Deluxe Double Room with Two Double Beds\",\"Family Suite\",\"Standard Queen Room with Two Queen Beds\",\"Ruby\",\"One-Bedroom with Shared Bathroom\",\"Twin Junior Suite\",\"Apartment With Shared Bathroom\",\"One-Bedroom King Villa\",\"Deluxe Queen Room with Two Queen Beds\",\"Deluxe Single Room\",\"\\u0634\\u0642\\u0647 \\u063a\\u0631\\u0641\\u0629 \\u0646\\u0648\\u0645 \\u0648\\u0627\\u062d\\u062f\\u0647 \\u0628\\u062f\\u0648\\u0646 \\u0635\\u0627\\u0644\\u0647\",\"Deluxe Twin Room with Partial Sea View\",\"Standard Room Twin\",\"Twin Guest Room\",\"Superior Room With 2 Single Beds And 1 Sofa\",\"Twin Room City View\",\"Standard Twin Room with Sofa\",\"Classic King Room Haram\",\"Family Room with Bathroom\",\"Deluxe Twin Room with Garden View\",\"Economy Single Room\",\"Twin Room with Two Twin Beds - Non-Smoking\",\"Standard King Room, Guest room, 1 King\",\"Apartment with Garden View\",\"Standard Room Twin, Guest room,  Twin/Single Bed(s)\",\"Classic Twin Room - Cityside\",\"Superior Room with Twin beds\",\"Special Offer - Twin Room\",\"Superior Studio\",\"Holiday Home\",\"1 Bedroom Apartment, 1 King\",\"Suite with Balcony\",\"Deluxe King Room - Non-Smoking\",\"Small Room\",\"1 King Bed, One-Bedroom, City View\",\"Standard Twin Room - Smoking\",\"Room with Private Bathroom\",\"Studio Premier\",\"Deluxe Room with Two Beds - Smoking\",\"Standard King Bed Room Haram View\",\"Standard Studio Double\",\"Standard Family Room\",\"1 King Guestroom\",\"Single Room\",\"Deluxe Double Room with Bath\",\"Traditional King City Vie, Guest room, 1 King, City view\",\"Classic Room, Guest room, 1 Queen\",\"Deluxe Double Room without Pool\",\"Standard, Guest room, 2 Twin/Single Bed(s)\",\"Signature Suite City View\",\"Three-Bedroom Garden Villa\",\"Standard Single Room\",\"Studio Executive\",\"Superior Triple Room\",\"Junior Suite Sea View\",\"Double Room - Mobility Access/Smoking\",\"Double or Twin Bed with Sea View Room\",\"Superior King with Balcony City View\",\"Economy Room\",\"Apartment with Pool View \",\"Premium Room King Bed\",\"Standard King Room with City View\",\"Studio with City View\",\"Deluxe Room with 2 single beds, City side\",\"Classic Twin Room with City View\",\" Standard Studio\",\"Twin Room with Pool View\",\"Deluxe Queen Room\",\"Two-Bedroom Deluxe Apartment\",\"Two-Bedroom Chalet\",\"Superior Twin Room - Smoking\",\"Deluxe Room Twin, Guest room, 2 Twin/Single Bed(s), Sea view\",\"Classic Twin Room\",\"Superior Twin Room with City View\",\"King Leisure Room - Smoking\",\"Deluxe Villa\",\"Deluxe King Room with Partial Haram View \",\"Two-Bedroom Sunset Villa with Sea View\",\"Superior King Room with Pool View\",\"Deluxe Room Twin \",\"King Suite\",\"Deluxe Studio Suite - Non-Smoking\",\"Double Room with Bathroom\",\"Junior Villa\",\"Villa with Sea View\",\"Economy Studio\",\"Superior One-Bedroom Apartment\",\"Superior Room with 1 Queen Bed - City View\",\"Business King Room\",\"Small Twin Room\",\"Budget Room\",\"Studio - Split Level\",\"Grand Room\",\"Superior Queen Room\",\"Superior Double Room with Mountain View\",\"2 Single Deluxe Partial Haram View\",\"Hyatt Twin Deluxe\",\"Aloft Room, Guest room, 1 King\",\"Guest room, 2 Double\",\"Mahar Chalet one bedroom with Balcony\",\"Deluxe King Room - Smoking\",\"King Room - Non-Smoking\",\"One-Bedroom Suite - Double Bed\",\"Apartment - Ground Floor\",\"One-Bedroom Villa\",\"Twin Room with Bathroom\",\" Deluxe Studio Twin \",\"Classic Room\",\"Standard two single bed, Guest room\",\"Standard Suite\",\"Double Room with Two Double Beds\",\"Executive Queen Room with Two Queen Beds\",\"Junior Suite with King Bed\",\"Standard Room, Guest room, Queen, City view, Side Wing\"],\"y\":[134,73,72,50,41,37,36,32,25,19,16,15,14,14,14,13,12,11,11,11,10,8,8,8,7,7,7,6,6,6,6,6,6,6,6,5,5,5,4,4,4,4,4,3,3,3,3,3,3,3,2,2,2,2,2,2,2,2,2,2,2,2,2,2,2,2,2,2,2,2,2,2,2,2,2,2,2,2,2,1,1,1,1,1,1,1,1,1,1,1,1,1,1,1,1,1,1,1,1,1,1,1,1,1,1,1,1,1,1,1,1,1,1,1,1,1,1,1,1,1,1,1,1,1,1,1,1,1,1,1,1,1,1,1,1,1,1,1,1,1,1,1,1,1,1,1,1,1,1,1,1,1,1,1,1,1,1,1,1,1,1,1,1,1,1,1,1,1,1,1,1,1,1,1,1,1,1,1,1,1,1,1,1,1,1,1,1,1,1,1,1,1,1,1,1,1,1,1,1,1,1,1,1,1,1,1,1,1,1,1,1,1,1,1,1,1,1,1,1,1,1,1,1,1,1,1,1,1,1,1,1,1,1,1,1,1],\"type\":\"bar\",\"xaxis\":\"x2\",\"yaxis\":\"y2\"},{\"name\":\"Max_persons\",\"x\":[\"Max persons: 2\",\"Max persons: 3\",\"Max persons: 4\",\"Max persons: 6\",\"Max persons: 5\",\"Max persons: 7\",\"Max persons: 1\",\"Max persons: 10\",\"Max persons: 9\",\"Max persons: 21\",\"Max persons: 12\",\"Max persons: 8\"],\"y\":[899,55,33,17,9,3,2,2,2,1,1,1],\"type\":\"bar\",\"xaxis\":\"x3\",\"yaxis\":\"y3\"},{\"name\":\"Bed_type\",\"x\":[\"1 bed\\n(1 extra-large double)\",\"2 beds\\n(2 singles)\",\"1 bed\\n(1 large double)\",\"1 bed\\n(1 double)\",\"2 beds\\n(1 extra-large double,\\u00a01 sofa bed)\",\"3 beds\\n(3 singles)\",\"4 beds\\n(4 singles)\",\"1 bed\\n(1 single)\",\"2 beds\\n(2 doubles)\",\"2 beds\\n(1 double,\\u00a01 sofa bed)\",\"3 beds\\n(2 singles,\\u00a01 extra-large double)\",\"2 beds\\n(1 sofa bed,\\u00a01 large double)\",\"3 beds\\n(2 singles,\\u00a01 sofa bed)\",\"3 beds\\n(2 singles,\\u00a01 large double)\",\"2 beds\\n(2 large doubles)\",\"4 beds\\n(1 extra-large double,\\u00a03 sofa beds)\",\"2 beds\\n(2 extra-large doubles)\",\"3 beds\\n(1 extra-large double,\\u00a02 sofa beds)\",\"2 beds\\n(1 single,\\u00a01 sofa bed)\",\"5 beds\\n(5 singles)\",\"5 beds\\n(1 extra-large double,\\u00a04 sofa beds)\",\"5 beds\\n(2 singles,\\u00a02 sofa beds,\\u00a01 large double)\",\"5 beds\\n(2 singles,\\u00a01 extra-large double,\\u00a02 sofa beds)\",\"4 beds\\n(1 double,\\u00a03 sofa beds)\",\"3 beds\\n(3 doubles)\",\"5 beds\\n(2 singles,\\u00a01 extra-large double,\\u00a01 sofa bed,\\u00a01 large double)\",\"2 beds\\n(1 single,\\u00a01 extra-large double)\",\"4 beds\\n(2 extra-large doubles,\\u00a02 sofa beds)\",\"4 beds\\n(1 single,\\u00a01 double,\\u00a02 large doubles)\",\"6 beds\\n(2 singles,\\u00a01 double,\\u00a03 sofa beds)\",\"6 beds\\n(6 singles)\",\"3 beds\\n(1 sofa bed,\\u00a02 large doubles)\",\"4 beds\\n(3 singles,\\u00a01 double)\",\"4 beds\\n(2 singles,\\u00a02 doubles)\",\"5 beds\\n(4 bunk beds,\\u00a01 large double)\",\"9 beds\\n(5 singles,\\u00a02 sofa beds,\\u00a02 large doubles)\",\"3 beds\\n(2 sofa beds,\\u00a01 large double)\",\"3 beds\\n(3 sofa beds)\",\"7 beds\\n(4 singles,\\u00a01 extra-large double,\\u00a02 sofa beds)\",\"19 beds\\n(1 extra-large double,\\u00a018 sofa beds)\",\"3 beds\\n(3 large doubles)\",\"6 beds\\n(1 extra-large double,\\u00a03 sofa beds,\\u00a02 large doubles)\",\"5 beds\\n(2 doubles,\\u00a01 extra-large double,\\u00a02 futons)\",\"21 beds\\n(15 singles,\\u00a06 sofa beds)\",\"2 beds\\n(1 single,\\u00a01 large double)\",\"1 bed\\n(1 sofa bed)\",\"5 beds\\n(2 singles,\\u00a01 double,\\u00a02 sofa beds)\",\"12 beds\\n(2 singles,\\u00a01 extra-large double,\\u00a09 sofa beds)\",\"4 beds\\n(3 singles,\\u00a01 extra-large double)\",\"2 beds\\n(1 single,\\u00a01 bunk bed)\",\"3 beds\\n(1 single,\\u00a01 double,\\u00a01 sofa bed)\",\"5 beds\\n(4 singles,\\u00a01 large double)\",\"5 beds\\n(4 singles,\\u00a01 extra-large double)\",\"5 beds\\n(4 singles,\\u00a01 double)\",\"9 beds\\n(9 singles)\",\"9 beds\\n(4 singles,\\u00a01 extra-large double,\\u00a04 sofa beds)\",\"4 beds\\n(3 sofa beds,\\u00a01 large double)\",\"4 beds\\n(3 singles,\\u00a01 sofa bed)\",\"23 beds\\n(10 singles,\\u00a01 extra-large double,\\u00a012 sofa beds)\",\"4 beds\\n(2 singles,\\u00a01 extra-large double,\\u00a01 sofa bed)\",\"3 beds\\n(2 doubles,\\u00a01 sofa bed)\",\"3 beds\\n(2 doubles,\\u00a01 large double)\",\"4 beds\\n(1 double,\\u00a01 sofa bed,\\u00a02 large doubles)\",\"2 beds\\n(2 sofa beds)\",\"15 beds\\n(2 singles,\\u00a01 extra-large double,\\u00a012 sofa beds)\"],\"y\":[277,235,166,160,23,16,11,10,9,7,7,6,6,5,4,4,3,3,2,2,2,2,2,2,2,1,1,1,1,1,1,1,1,1,1,1,1,1,1,1,1,1,1,1,1,1,1,1,1,1,1,1,1,1,1,1,1,1,1,1,1,1,1,1,1],\"type\":\"bar\",\"xaxis\":\"x4\",\"yaxis\":\"y4\"}],                        {\"template\":{\"data\":{\"histogram2dcontour\":[{\"type\":\"histogram2dcontour\",\"colorbar\":{\"outlinewidth\":0,\"ticks\":\"\"},\"colorscale\":[[0.0,\"#0d0887\"],[0.1111111111111111,\"#46039f\"],[0.2222222222222222,\"#7201a8\"],[0.3333333333333333,\"#9c179e\"],[0.4444444444444444,\"#bd3786\"],[0.5555555555555556,\"#d8576b\"],[0.6666666666666666,\"#ed7953\"],[0.7777777777777778,\"#fb9f3a\"],[0.8888888888888888,\"#fdca26\"],[1.0,\"#f0f921\"]]}],\"choropleth\":[{\"type\":\"choropleth\",\"colorbar\":{\"outlinewidth\":0,\"ticks\":\"\"}}],\"histogram2d\":[{\"type\":\"histogram2d\",\"colorbar\":{\"outlinewidth\":0,\"ticks\":\"\"},\"colorscale\":[[0.0,\"#0d0887\"],[0.1111111111111111,\"#46039f\"],[0.2222222222222222,\"#7201a8\"],[0.3333333333333333,\"#9c179e\"],[0.4444444444444444,\"#bd3786\"],[0.5555555555555556,\"#d8576b\"],[0.6666666666666666,\"#ed7953\"],[0.7777777777777778,\"#fb9f3a\"],[0.8888888888888888,\"#fdca26\"],[1.0,\"#f0f921\"]]}],\"heatmap\":[{\"type\":\"heatmap\",\"colorbar\":{\"outlinewidth\":0,\"ticks\":\"\"},\"colorscale\":[[0.0,\"#0d0887\"],[0.1111111111111111,\"#46039f\"],[0.2222222222222222,\"#7201a8\"],[0.3333333333333333,\"#9c179e\"],[0.4444444444444444,\"#bd3786\"],[0.5555555555555556,\"#d8576b\"],[0.6666666666666666,\"#ed7953\"],[0.7777777777777778,\"#fb9f3a\"],[0.8888888888888888,\"#fdca26\"],[1.0,\"#f0f921\"]]}],\"heatmapgl\":[{\"type\":\"heatmapgl\",\"colorbar\":{\"outlinewidth\":0,\"ticks\":\"\"},\"colorscale\":[[0.0,\"#0d0887\"],[0.1111111111111111,\"#46039f\"],[0.2222222222222222,\"#7201a8\"],[0.3333333333333333,\"#9c179e\"],[0.4444444444444444,\"#bd3786\"],[0.5555555555555556,\"#d8576b\"],[0.6666666666666666,\"#ed7953\"],[0.7777777777777778,\"#fb9f3a\"],[0.8888888888888888,\"#fdca26\"],[1.0,\"#f0f921\"]]}],\"contourcarpet\":[{\"type\":\"contourcarpet\",\"colorbar\":{\"outlinewidth\":0,\"ticks\":\"\"}}],\"contour\":[{\"type\":\"contour\",\"colorbar\":{\"outlinewidth\":0,\"ticks\":\"\"},\"colorscale\":[[0.0,\"#0d0887\"],[0.1111111111111111,\"#46039f\"],[0.2222222222222222,\"#7201a8\"],[0.3333333333333333,\"#9c179e\"],[0.4444444444444444,\"#bd3786\"],[0.5555555555555556,\"#d8576b\"],[0.6666666666666666,\"#ed7953\"],[0.7777777777777778,\"#fb9f3a\"],[0.8888888888888888,\"#fdca26\"],[1.0,\"#f0f921\"]]}],\"surface\":[{\"type\":\"surface\",\"colorbar\":{\"outlinewidth\":0,\"ticks\":\"\"},\"colorscale\":[[0.0,\"#0d0887\"],[0.1111111111111111,\"#46039f\"],[0.2222222222222222,\"#7201a8\"],[0.3333333333333333,\"#9c179e\"],[0.4444444444444444,\"#bd3786\"],[0.5555555555555556,\"#d8576b\"],[0.6666666666666666,\"#ed7953\"],[0.7777777777777778,\"#fb9f3a\"],[0.8888888888888888,\"#fdca26\"],[1.0,\"#f0f921\"]]}],\"mesh3d\":[{\"type\":\"mesh3d\",\"colorbar\":{\"outlinewidth\":0,\"ticks\":\"\"}}],\"scatter\":[{\"fillpattern\":{\"fillmode\":\"overlay\",\"size\":10,\"solidity\":0.2},\"type\":\"scatter\"}],\"parcoords\":[{\"type\":\"parcoords\",\"line\":{\"colorbar\":{\"outlinewidth\":0,\"ticks\":\"\"}}}],\"scatterpolargl\":[{\"type\":\"scatterpolargl\",\"marker\":{\"colorbar\":{\"outlinewidth\":0,\"ticks\":\"\"}}}],\"bar\":[{\"error_x\":{\"color\":\"#2a3f5f\"},\"error_y\":{\"color\":\"#2a3f5f\"},\"marker\":{\"line\":{\"color\":\"#E5ECF6\",\"width\":0.5},\"pattern\":{\"fillmode\":\"overlay\",\"size\":10,\"solidity\":0.2}},\"type\":\"bar\"}],\"scattergeo\":[{\"type\":\"scattergeo\",\"marker\":{\"colorbar\":{\"outlinewidth\":0,\"ticks\":\"\"}}}],\"scatterpolar\":[{\"type\":\"scatterpolar\",\"marker\":{\"colorbar\":{\"outlinewidth\":0,\"ticks\":\"\"}}}],\"histogram\":[{\"marker\":{\"pattern\":{\"fillmode\":\"overlay\",\"size\":10,\"solidity\":0.2}},\"type\":\"histogram\"}],\"scattergl\":[{\"type\":\"scattergl\",\"marker\":{\"colorbar\":{\"outlinewidth\":0,\"ticks\":\"\"}}}],\"scatter3d\":[{\"type\":\"scatter3d\",\"line\":{\"colorbar\":{\"outlinewidth\":0,\"ticks\":\"\"}},\"marker\":{\"colorbar\":{\"outlinewidth\":0,\"ticks\":\"\"}}}],\"scattermapbox\":[{\"type\":\"scattermapbox\",\"marker\":{\"colorbar\":{\"outlinewidth\":0,\"ticks\":\"\"}}}],\"scatterternary\":[{\"type\":\"scatterternary\",\"marker\":{\"colorbar\":{\"outlinewidth\":0,\"ticks\":\"\"}}}],\"scattercarpet\":[{\"type\":\"scattercarpet\",\"marker\":{\"colorbar\":{\"outlinewidth\":0,\"ticks\":\"\"}}}],\"carpet\":[{\"aaxis\":{\"endlinecolor\":\"#2a3f5f\",\"gridcolor\":\"white\",\"linecolor\":\"white\",\"minorgridcolor\":\"white\",\"startlinecolor\":\"#2a3f5f\"},\"baxis\":{\"endlinecolor\":\"#2a3f5f\",\"gridcolor\":\"white\",\"linecolor\":\"white\",\"minorgridcolor\":\"white\",\"startlinecolor\":\"#2a3f5f\"},\"type\":\"carpet\"}],\"table\":[{\"cells\":{\"fill\":{\"color\":\"#EBF0F8\"},\"line\":{\"color\":\"white\"}},\"header\":{\"fill\":{\"color\":\"#C8D4E3\"},\"line\":{\"color\":\"white\"}},\"type\":\"table\"}],\"barpolar\":[{\"marker\":{\"line\":{\"color\":\"#E5ECF6\",\"width\":0.5},\"pattern\":{\"fillmode\":\"overlay\",\"size\":10,\"solidity\":0.2}},\"type\":\"barpolar\"}],\"pie\":[{\"automargin\":true,\"type\":\"pie\"}]},\"layout\":{\"autotypenumbers\":\"strict\",\"colorway\":[\"#636efa\",\"#EF553B\",\"#00cc96\",\"#ab63fa\",\"#FFA15A\",\"#19d3f3\",\"#FF6692\",\"#B6E880\",\"#FF97FF\",\"#FECB52\"],\"font\":{\"color\":\"#2a3f5f\"},\"hovermode\":\"closest\",\"hoverlabel\":{\"align\":\"left\"},\"paper_bgcolor\":\"white\",\"plot_bgcolor\":\"#E5ECF6\",\"polar\":{\"bgcolor\":\"#E5ECF6\",\"angularaxis\":{\"gridcolor\":\"white\",\"linecolor\":\"white\",\"ticks\":\"\"},\"radialaxis\":{\"gridcolor\":\"white\",\"linecolor\":\"white\",\"ticks\":\"\"}},\"ternary\":{\"bgcolor\":\"#E5ECF6\",\"aaxis\":{\"gridcolor\":\"white\",\"linecolor\":\"white\",\"ticks\":\"\"},\"baxis\":{\"gridcolor\":\"white\",\"linecolor\":\"white\",\"ticks\":\"\"},\"caxis\":{\"gridcolor\":\"white\",\"linecolor\":\"white\",\"ticks\":\"\"}},\"coloraxis\":{\"colorbar\":{\"outlinewidth\":0,\"ticks\":\"\"}},\"colorscale\":{\"sequential\":[[0.0,\"#0d0887\"],[0.1111111111111111,\"#46039f\"],[0.2222222222222222,\"#7201a8\"],[0.3333333333333333,\"#9c179e\"],[0.4444444444444444,\"#bd3786\"],[0.5555555555555556,\"#d8576b\"],[0.6666666666666666,\"#ed7953\"],[0.7777777777777778,\"#fb9f3a\"],[0.8888888888888888,\"#fdca26\"],[1.0,\"#f0f921\"]],\"sequentialminus\":[[0.0,\"#0d0887\"],[0.1111111111111111,\"#46039f\"],[0.2222222222222222,\"#7201a8\"],[0.3333333333333333,\"#9c179e\"],[0.4444444444444444,\"#bd3786\"],[0.5555555555555556,\"#d8576b\"],[0.6666666666666666,\"#ed7953\"],[0.7777777777777778,\"#fb9f3a\"],[0.8888888888888888,\"#fdca26\"],[1.0,\"#f0f921\"]],\"diverging\":[[0,\"#8e0152\"],[0.1,\"#c51b7d\"],[0.2,\"#de77ae\"],[0.3,\"#f1b6da\"],[0.4,\"#fde0ef\"],[0.5,\"#f7f7f7\"],[0.6,\"#e6f5d0\"],[0.7,\"#b8e186\"],[0.8,\"#7fbc41\"],[0.9,\"#4d9221\"],[1,\"#276419\"]]},\"xaxis\":{\"gridcolor\":\"white\",\"linecolor\":\"white\",\"ticks\":\"\",\"title\":{\"standoff\":15},\"zerolinecolor\":\"white\",\"automargin\":true,\"zerolinewidth\":2},\"yaxis\":{\"gridcolor\":\"white\",\"linecolor\":\"white\",\"ticks\":\"\",\"title\":{\"standoff\":15},\"zerolinecolor\":\"white\",\"automargin\":true,\"zerolinewidth\":2},\"scene\":{\"xaxis\":{\"backgroundcolor\":\"#E5ECF6\",\"gridcolor\":\"white\",\"linecolor\":\"white\",\"showbackground\":true,\"ticks\":\"\",\"zerolinecolor\":\"white\",\"gridwidth\":2},\"yaxis\":{\"backgroundcolor\":\"#E5ECF6\",\"gridcolor\":\"white\",\"linecolor\":\"white\",\"showbackground\":true,\"ticks\":\"\",\"zerolinecolor\":\"white\",\"gridwidth\":2},\"zaxis\":{\"backgroundcolor\":\"#E5ECF6\",\"gridcolor\":\"white\",\"linecolor\":\"white\",\"showbackground\":true,\"ticks\":\"\",\"zerolinecolor\":\"white\",\"gridwidth\":2}},\"shapedefaults\":{\"line\":{\"color\":\"#2a3f5f\"}},\"annotationdefaults\":{\"arrowcolor\":\"#2a3f5f\",\"arrowhead\":0,\"arrowwidth\":1},\"geo\":{\"bgcolor\":\"white\",\"landcolor\":\"#E5ECF6\",\"subunitcolor\":\"white\",\"showland\":true,\"showlakes\":true,\"lakecolor\":\"white\"},\"title\":{\"x\":0.05},\"mapbox\":{\"style\":\"light\"}}},\"xaxis\":{\"anchor\":\"y\",\"domain\":[0.0,0.45]},\"yaxis\":{\"anchor\":\"x\",\"domain\":[0.625,1.0]},\"xaxis2\":{\"anchor\":\"y2\",\"domain\":[0.55,1.0]},\"yaxis2\":{\"anchor\":\"x2\",\"domain\":[0.625,1.0]},\"xaxis3\":{\"anchor\":\"y3\",\"domain\":[0.0,0.45]},\"yaxis3\":{\"anchor\":\"x3\",\"domain\":[0.0,0.375]},\"xaxis4\":{\"anchor\":\"y4\",\"domain\":[0.55,1.0]},\"yaxis4\":{\"anchor\":\"x4\",\"domain\":[0.0,0.375]},\"annotations\":[{\"font\":{\"size\":16},\"showarrow\":false,\"text\":\"City\",\"x\":0.225,\"xanchor\":\"center\",\"xref\":\"paper\",\"y\":1.0,\"yanchor\":\"bottom\",\"yref\":\"paper\"},{\"font\":{\"size\":16},\"showarrow\":false,\"text\":\"Type of room\",\"x\":0.775,\"xanchor\":\"center\",\"xref\":\"paper\",\"y\":1.0,\"yanchor\":\"bottom\",\"yref\":\"paper\"},{\"font\":{\"size\":16},\"showarrow\":false,\"text\":\"Max persons\",\"x\":0.225,\"xanchor\":\"center\",\"xref\":\"paper\",\"y\":0.375,\"yanchor\":\"bottom\",\"yref\":\"paper\"},{\"font\":{\"size\":16},\"showarrow\":false,\"text\":\"Bed type\",\"x\":0.775,\"xanchor\":\"center\",\"xref\":\"paper\",\"y\":0.375,\"yanchor\":\"bottom\",\"yref\":\"paper\"}],\"title\":{\"text\":\"The distribution of categorical data\"},\"height\":1500,\"width\":2000},                        {\"responsive\": true}                    ).then(function(){\n",
       "                            \n",
       "var gd = document.getElementById('c6bd4ed3-1439-4319-81ba-c64f56ffc2fb');\n",
       "var x = new MutationObserver(function (mutations, observer) {{\n",
       "        var display = window.getComputedStyle(gd).display;\n",
       "        if (!display || display === 'none') {{\n",
       "            console.log([gd, 'removed!']);\n",
       "            Plotly.purge(gd);\n",
       "            observer.disconnect();\n",
       "        }}\n",
       "}});\n",
       "\n",
       "// Listen for the removal of the full notebook cells\n",
       "var notebookContainer = gd.closest('#notebook-container');\n",
       "if (notebookContainer) {{\n",
       "    x.observe(notebookContainer, {childList: true});\n",
       "}}\n",
       "\n",
       "// Listen for the clearing of the current output cell\n",
       "var outputEl = gd.closest('.output');\n",
       "if (outputEl) {{\n",
       "    x.observe(outputEl, {childList: true});\n",
       "}}\n",
       "\n",
       "                        })                };                });            </script>        </div>"
      ]
     },
     "metadata": {},
     "output_type": "display_data"
    }
   ],
   "source": [
    "#Plotting Bar charts\n",
    "fig = make_subplots(rows=2, cols=2,subplot_titles=(\"City\", \"Type of room\",\n",
    "                                                   \"Max persons\", \"Bed type\"), )\n",
    "\n",
    "fig.add_trace(go.Bar(y=Count_City['Count'], x=Count_City['City'], name=\"City\"), row=1, col=1)\n",
    "\n",
    "fig.add_trace(go.Bar(y=Count_Type_of_room['Count'], x=Count_Type_of_room['Type_of_room'], name=\"Type_of_room\"), row=1, col=2)\n",
    "\n",
    "fig.add_trace(go.Bar(y=Count_Max_persons['Count'], x=Count_Max_persons['Max_persons'], name=\"Max_persons\"), row=2, col=1)\n",
    "\n",
    "fig.add_trace(go.Bar(y=Count_Bed_type['Count'], x=Count_Bed_type['Bed_type'], name=\"Bed_type\"), row=2, col=2)\n",
    "\n",
    "fig.update_layout(height=1500, width=2000, title_text=\"The distribution of categorical data\")\n",
    "\n",
    "\n",
    "fig.show()\n"
   ]
  },
  {
   "cell_type": "markdown",
   "metadata": {},
   "source": [
    "# Discussion\n",
    "This dataset contains the most hotels in the KSA collected from the most common booking website in the world Booking.com.\n",
    "by analysising the dataset, I represent the best and the worst cities in Saudi Arabia in hotels services. Also the chart shows the most common hotels and its reviews as well. It help if you decide for traveling plan, or to help the Hotel owners to enhance the hotels services in the worst cities."
   ]
  }
 ],
 "metadata": {
  "kernelspec": {
   "display_name": "Python 3",
   "language": "python",
   "name": "python3"
  },
  "language_info": {
   "codemirror_mode": {
    "name": "ipython",
    "version": 3
   },
   "file_extension": ".py",
   "mimetype": "text/x-python",
   "name": "python",
   "nbconvert_exporter": "python",
   "pygments_lexer": "ipython3",
   "version": "3.7.3"
  }
 },
 "nbformat": 4,
 "nbformat_minor": 2
}
